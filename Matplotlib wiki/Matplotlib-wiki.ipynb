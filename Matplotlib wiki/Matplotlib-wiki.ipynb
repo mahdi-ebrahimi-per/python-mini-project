{
 "cells": [
  {
   "cell_type": "code",
   "execution_count": null,
   "source": [
    "import matplotlib.pyplot as plt\r\n",
    "import numpy as np\r\n"
   ],
   "outputs": [],
   "metadata": {}
  },
  {
   "cell_type": "code",
   "execution_count": null,
   "source": [
    "# simple plot  /  نمودار خطی ساده\r\n",
    "\r\n",
    "plt.plot([1,2,3], [5,7,4])     #plt.plot( [5, 7, 4] )\r\n",
    "plt.show()\r\n"
   ],
   "outputs": [],
   "metadata": {}
  },
  {
   "cell_type": "code",
   "execution_count": null,
   "source": [
    "# multiple plot / چندین نمودار   \r\n",
    "\r\n",
    "x = [1,2,3]\r\n",
    "y = [5,7,4]\r\n",
    "\r\n",
    "x2 = [1,2,3]\r\n",
    "y2 = [8,5,8]\r\n",
    "\r\n",
    "plt.plot(x, y)\r\n",
    "plt.plot(x2, y2)\r\n",
    "\r\n",
    "plt.show()"
   ],
   "outputs": [],
   "metadata": {}
  },
  {
   "cell_type": "code",
   "execution_count": null,
   "source": [
    "# legend, label, titile  /   توضیح هر خط، توضیح محور، عنوان نمودار\r\n",
    "\r\n",
    "\r\n",
    "x = [1,2,3]\r\n",
    "y = [5,7,4]\r\n",
    "\r\n",
    "x2 = [1,2,3]\r\n",
    "y2 = [8,5,8]\r\n",
    "\r\n",
    "# legend\r\n",
    "plt.plot(x, y, label='first line')\r\n",
    "plt.plot(x2, y2, label= 'secend line')\r\n",
    "plt.legend()\r\n",
    "\r\n",
    "# label\r\n",
    "plt.xlabel('Plot number')\r\n",
    "plt.ylabel('Variation')\r\n",
    "\r\n",
    "# title\r\n",
    "plt.title('sample grapp \\n simple plot')\r\n",
    "plt.show()\r\n"
   ],
   "outputs": [],
   "metadata": {}
  },
  {
   "cell_type": "code",
   "execution_count": null,
   "source": [
    "# change color  /  تغییر رنگ\r\n",
    "\r\n",
    "x = [1,2,3]\r\n",
    "y = [5,7,4]\r\n",
    "\r\n",
    "plt.plot(x, y, color='k') # r : red / b : blue / k : black\r\n",
    "plt.show()\r\n",
    "\r\n",
    "plt.plot(x, y, color='red')\r\n",
    "plt.show()\r\n",
    "\r\n",
    "plt.plot(x, y, color='blue')\r\n",
    "plt.show()\r\n",
    "\r\n",
    "plt.plot(x, y, color='#a11db3')   #every color hex \r\n",
    "plt.show()"
   ],
   "outputs": [],
   "metadata": {}
  },
  {
   "cell_type": "code",
   "execution_count": null,
   "source": [],
   "outputs": [],
   "metadata": {}
  },
  {
   "cell_type": "code",
   "execution_count": null,
   "source": [],
   "outputs": [],
   "metadata": {}
  },
  {
   "cell_type": "code",
   "execution_count": null,
   "source": [
    "# bar chart \r\n",
    "\r\n",
    "\r\n",
    "x = [2, 4, 6, 8 ,10]\r\n",
    "y = [6, 7, 8, 2, 4]\r\n",
    "\r\n",
    "x2 = [1, 3, 5, 7, 9]\r\n",
    "y2 = [7, 8, 2, 4, 2]\r\n",
    "\r\n",
    "plt.bar(x, y, label='first bar')\r\n",
    "plt.bar(x2, y2, label='secend bar')\r\n",
    "\r\n",
    "# label\r\n",
    "plt.xlabel('x')\r\n",
    "plt.ylabel('y')\r\n",
    "\r\n",
    "# title\r\n",
    "plt.title('bar title')\r\n",
    "\r\n",
    "plt.legend()\r\n",
    "plt.show()\r\n"
   ],
   "outputs": [],
   "metadata": {}
  },
  {
   "cell_type": "code",
   "execution_count": null,
   "source": [
    "# histogram\r\n",
    "\r\n",
    "ages = [22, 55, 42, 55, 76, 41, 12, 45, 14, 34, 45, 91, 13, 5, 10, 3, 28, 99, 45]\r\n",
    "\r\n",
    "# first way\r\n",
    "# x = [x for x in range(len(ages))]\r\n",
    "# plt.bar(ages, x)\r\n",
    "\r\n",
    "#secend way (main)\r\n",
    "x = [0, 10, 20, 30, 40, 50, 60, 70, 80, 90, 100]\r\n",
    "plt.hist(ages, x, histtype='bar', rwidth=0.8)\r\n",
    "\r\n",
    "# label\r\n",
    "plt.xlabel('x')\r\n",
    "plt.ylabel('y')\r\n",
    "\r\n",
    "# title\r\n",
    "plt.title('hist title')\r\n",
    "\r\n",
    "plt.show()\r\n"
   ],
   "outputs": [],
   "metadata": {}
  },
  {
   "cell_type": "code",
   "execution_count": null,
   "source": [
    "# scatter plot /  نمودار نقطه ای\r\n",
    "\r\n",
    "\r\n",
    "x = [1, 2, 3, 4, 5, 6, 7, 8]\r\n",
    "y = [2, 3, 4, 5, 7, 2, 9, 5]\r\n",
    "\r\n",
    "plt.scatter(x, y, label='test data', color='r', s=120, marker='D')\r\n",
    "\r\n",
    "plt.xlabel('x')\r\n",
    "plt.ylabel('y')\r\n",
    "plt.title('chart \\n scatter plot')\r\n",
    "plt.legend()\r\n",
    "plt.show()\r\n"
   ],
   "outputs": [],
   "metadata": {}
  },
  {
   "cell_type": "code",
   "execution_count": null,
   "source": [
    "# stack plot / نمودار توده ای\r\n",
    "\r\n",
    "import matplotlib.pyplot as plt\r\n",
    "\r\n",
    "days = [1, 2, 3, 4, 5]\r\n",
    "\r\n",
    "sleeping = [7, 8, 9, 10, 6]\r\n",
    "eating = [2, 3, 1, 4, 2]\r\n",
    "working = [7, 8, 4, 5, 7]\r\n",
    "playing = [2, 3, 1, 4, 2]\r\n",
    "\r\n",
    "\r\n",
    "plt.stackplot(days, sleeping, eating, working, playing, colors=['m', 'c', 'r', 'k'])\r\n",
    "\r\n",
    "\r\n",
    "plt.plot([], [], color='m', label='sleeping', linewidth=5)\r\n",
    "plt.plot([], [], color='c', label='eating', linewidth=5)\r\n",
    "plt.plot([], [], color='r', label='working', linewidth=5)\r\n",
    "plt.plot([], [], color='k', label='playing', linewidth=5)\r\n",
    "\r\n",
    "\r\n",
    "plt.xlabel('x')\r\n",
    "plt.ylabel('y')\r\n",
    "plt.title('chart \\n stack plot')\r\n",
    "plt.legend()\r\n",
    "plt.show()\r\n"
   ],
   "outputs": [],
   "metadata": {}
  },
  {
   "cell_type": "code",
   "execution_count": null,
   "source": [
    "# pie plot / نمودار دایره ای\r\n",
    "\r\n",
    "import matplotlib.pyplot as plt\r\n",
    "\r\n",
    "slices = [7, 3, 12, 2]\r\n",
    "activities = ['sleeping', 'eating', 'working', 'playing']\r\n",
    "\r\n",
    "plt.pie(slices, labels=activities, colors=['m', 'c', 'r', 'g'], shadow=True, explode=(0, 0.1, 0, 0), autopct='%.2f%%')\r\n",
    "\r\n",
    "plt.show()\r\n",
    "\r\n",
    "\r\n",
    "\r\n",
    "\r\n",
    "\r\n"
   ],
   "outputs": [],
   "metadata": {}
  },
  {
   "cell_type": "code",
   "execution_count": null,
   "source": [
    "# time/var  /  متغیر نسبت به زمان\r\n",
    "\r\n",
    "from datetime import date\r\n",
    "import matplotlib.pyplot as plt\r\n",
    "from matplotlib import dates\r\n",
    "\r\n",
    "plt.style.use('seaborn')\r\n",
    "\r\n",
    "x_dates = [\r\n",
    "    date(2019,5,24),\r\n",
    "    date(2019,5,25),\r\n",
    "    date(2019,5,26),\r\n",
    "    date(2019,5,27),\r\n",
    "    date(2019,5,28),\r\n",
    "    date(2019,5,29),\r\n",
    "    date(2019,5,30),\r\n",
    "    date(2019,5,31),\r\n",
    "]\r\n",
    "\r\n",
    "\r\n",
    "y = [0, 1, 2, 3, 4, 5, 6, 7]\r\n",
    "\r\n",
    "plt.plot(x_dates, y)\r\n",
    "\r\n",
    "plt.gcf().autofmt_xdate()\r\n",
    "\r\n",
    "date_formater = dates.DateFormatter(\"%b %d %y\") #bm, dd, yy\r\n",
    "\r\n",
    "plt.gca().xaxis.set_major_formatter(date_formater)\r\n",
    "\r\n",
    "plt.show()"
   ],
   "outputs": [],
   "metadata": {}
  },
  {
   "cell_type": "code",
   "execution_count": null,
   "source": [
    "import matplotlib.pyplot as plt\r\n",
    "import numpy as np\r\n",
    "\r\n",
    "plt.style.use('ggplot')\r\n",
    "\r\n",
    "dev_x = [25, 26, 27, 28, 29, 30, 31, 32, 33, 34, 35]\r\n",
    "dev_y = [38496, 42000, 46752, 49320, 53200, 56000, 63316, 64928, 67317, 68748, 73752]\r\n",
    "\r\n",
    "py_dev_y = [45372, 48876, 53850, 57287, 63016, 69998, 70003, 70000, 71496, 75370, 83640]\r\n",
    "\r\n",
    "ja_dev_y = [37810, 43515, 46823, 49293, 53437, 56373, 62375, 66674, 68745, 68746, 74583]\r\n",
    "\r\n",
    "plt.plot(dev_x, dev_y, label='All Developer', color='m')\r\n",
    "plt.plot(dev_x, py_dev_y, label='Python', color='y')\r\n",
    "plt.plot(dev_x, ja_dev_y, label='Java script', color='c')\r\n",
    "\r\n",
    "plt.xlabel('Median developer age')\r\n",
    "plt.ylabel('Average Salaries')\r\n",
    "plt.title('Median Developer Salaries by Age')\r\n",
    "plt.legend()\r\n",
    "plt.show()\r\n",
    "\r\n"
   ],
   "outputs": [],
   "metadata": {}
  },
  {
   "cell_type": "code",
   "execution_count": null,
   "source": [
    "# vertical grouped bar / بار های گروهی عمودی\r\n",
    "\r\n",
    "import matplotlib.pyplot as plt\r\n",
    "import numpy as np\r\n",
    "\r\n",
    "plt.style.use('ggplot')\r\n",
    "\r\n",
    "dev_x = [25, 26, 27, 28, 29, 30, 31, 32, 33, 34, 35]\r\n",
    "dev_y = [38496, 42000, 46752, 49320, 53200, 56000, 63316, 64928, 67317, 68748, 73752]\r\n",
    "\r\n",
    "py_dev_y = [45372, 48876, 53850, 57287, 63016, 69998, 70003, 70000, 71496, 75370, 83640]\r\n",
    "\r\n",
    "ja_dev_y = [37810, 43515, 46823, 49293, 53437, 56373, 62375, 66674, 68745, 68746, 74583]\r\n",
    "\r\n",
    "x_index = np.arange(len(dev_x))\r\n",
    "width = 0.25\r\n",
    "\r\n",
    "plt.bar(x_index - width, dev_y, label='All Developer', color='m', width=width)\r\n",
    "plt.bar(x_index        , py_dev_y, label='Python', color='y', width=width)\r\n",
    "plt.bar(x_index + width, ja_dev_y, label='Java script', color='c', width=width)\r\n",
    "\r\n",
    "plt.xticks(ticks=x_index, labels=dev_x)\r\n",
    "\r\n",
    "plt.xlabel('Median developer age')\r\n",
    "plt.ylabel('Average Salaries')\r\n",
    "plt.title('Median Developer Salaries by Age')\r\n",
    "plt.legend()\r\n",
    "plt.show()\r\n",
    "\r\n"
   ],
   "outputs": [],
   "metadata": {}
  },
  {
   "cell_type": "code",
   "execution_count": null,
   "source": [
    "# vertical grouped horizontal bar / بار های گروهی افقی\r\n",
    "\r\n",
    "import matplotlib.pyplot as plt\r\n",
    "import numpy as np\r\n",
    "\r\n",
    "plt.style.use('ggplot')\r\n",
    "\r\n",
    "dev_x = [25, 26, 27, 28, 29, 30, 31, 32, 33, 34, 35]\r\n",
    "dev_y = [38496, 42000, 46752, 49320, 53200, 56000, 63316, 64928, 67317, 68748, 73752]\r\n",
    "\r\n",
    "py_dev_y = [45372, 48876, 53850, 57287, 63016, 69998, 70003, 70000, 71496, 75370, 83640]\r\n",
    "\r\n",
    "ja_dev_y = [37810, 43515, 46823, 49293, 53437, 56373, 62375, 66674, 68745, 68746, 74583]\r\n",
    "\r\n",
    "x_index = np.arange(len(dev_x))\r\n",
    "height = 0.25\r\n",
    "\r\n",
    "plt.barh(x_index - height, dev_y, label='All Developer', color='m', height=height)\r\n",
    "plt.barh(x_index        , py_dev_y, label='Python', color='y', height=height)\r\n",
    "plt.barh(x_index + height, ja_dev_y, label='Java script', color='c', height=height)\r\n",
    "\r\n",
    "plt.yticks(ticks=x_index, labels=dev_x)\r\n",
    "\r\n",
    "plt.ylabel('Median developer age')\r\n",
    "plt.xlabel('Average Salaries')\r\n",
    "plt.title('Median Developer Salaries by Age')\r\n",
    "plt.legend()\r\n",
    "plt.show()\r\n",
    "\r\n"
   ],
   "outputs": [],
   "metadata": {}
  },
  {
   "cell_type": "code",
   "execution_count": null,
   "source": [
    "# live data / دیتا زنده\r\n",
    "\r\n",
    "import random\r\n",
    "import matplotlib.pyplot as plt\r\n",
    "from itertools import count\r\n",
    "from matplotlib.animation import FuncAnimation\r\n",
    "\r\n",
    "\r\n",
    "plt.style.use('fivethirtyeight')\r\n",
    "\r\n",
    "x_vals = []\r\n",
    "y_vals = []\r\n",
    "\r\n",
    "index = count()\r\n",
    "\r\n",
    "def animate(i):\r\n",
    "    x_vals.append(next(index))\r\n",
    "    y_vals.append(random.randint(0,5))\r\n",
    "    plt.cla()\r\n",
    "    plt.plot(x_vals, y_vals)\r\n",
    "\r\n",
    "animated = FuncAnimation(plt.gcf(), animate, interval = 1000)\r\n",
    "\r\n",
    "plt.show()"
   ],
   "outputs": [],
   "metadata": {}
  },
  {
   "cell_type": "code",
   "execution_count": null,
   "source": [
    "# live save in csv / csv ذخیره لحظه ای در \r\n",
    "\r\n",
    "import csv, random, time\r\n",
    "\r\n",
    "#x\r\n",
    "x_value = 0\r\n",
    "\r\n",
    "#y\r\n",
    "total_1 = 1000\r\n",
    "total_2 = 1000\r\n",
    "\r\n",
    "fieldnames = ['x_value', 'total_1', 'total_2']\r\n",
    "\r\n",
    "with open('live.csv', 'w') as csv_file:\r\n",
    "    csv_writer = csv.DictWriter(csv_file, fieldnames=fieldnames)\r\n",
    "    csv_writer.writeheader()\r\n",
    "\r\n",
    "while True:\r\n",
    "    with open('live.csv', 'a') as csv_file:\r\n",
    "        csv_writer = csv.DictWriter(csv_file, fieldnames=fieldnames)\r\n",
    "    \r\n",
    "        info = {\r\n",
    "            'x_value' : x_value,\r\n",
    "            'total_1' : total_1,\r\n",
    "            'total_2' : total_2\r\n",
    "        }   \r\n",
    "\r\n",
    "        csv_writer.writerow(info)\r\n",
    "        print(x_value, total_1, total_2)\r\n",
    "\r\n",
    "        x_value += 1\r\n",
    "        total_1 = total_1 + random.randint(-6, 8)\r\n",
    "        total_2 = total_2 + random.randint(-5, 6)\r\n",
    "\r\n",
    "    time.sleep(1)\r\n",
    "\r\n"
   ],
   "outputs": [],
   "metadata": {}
  },
  {
   "cell_type": "code",
   "execution_count": 1,
   "source": [
    "# live save for live chart / ذخیره لحظه ای برای جدول لحظه ای\r\n",
    "\r\n",
    "import random\r\n",
    "import matplotlib.pyplot as plt\r\n",
    "from itertools import count\r\n",
    "from matplotlib.animation import FuncAnimation\r\n",
    "import pandas as pd\r\n",
    "\r\n",
    "plt.style.use('fivethirtyeight')\r\n",
    "\r\n",
    "x_vals = []\r\n",
    "y_vals = []\r\n",
    "\r\n",
    "index = count()\r\n",
    "\r\n",
    "def animate(i):\r\n",
    "\r\n",
    "    data = pd.read_csv('live.csv')\r\n",
    "    x = data['x_value']\r\n",
    "    y1 = data['total_1']\r\n",
    "    y2 = data['total_2']\r\n",
    "\r\n",
    "    plt.cla()\r\n",
    "    plt.plot(x, y1, label='Data 1')\r\n",
    "    plt.plot(x, y2, label='Data 2')\r\n",
    "\r\n",
    "    plt.legend('upper left')\r\n",
    "\r\n",
    "\r\n",
    "animated = FuncAnimation(plt.gcf(), animate, interval = 1000)\r\n",
    "\r\n",
    "\r\n",
    "plt.show()\r\n",
    "\r\n",
    "\r\n",
    "\r\n",
    "\r\n"
   ],
   "outputs": [
    {
     "output_type": "display_data",
     "data": {
      "text/plain": [
       "<Figure size 432x288 with 0 Axes>"
      ]
     },
     "metadata": {}
    }
   ],
   "metadata": {}
  },
  {
   "cell_type": "code",
   "execution_count": 60,
   "source": [
    "# filling / پرکردن\r\n",
    "\r\n",
    "# vertical grouped horizontal bar / بار های گروهی افقی\r\n",
    "\r\n",
    "import matplotlib.pyplot as plt\r\n",
    "import numpy as np\r\n",
    "\r\n",
    "plt.style.use('ggplot')\r\n",
    "\r\n",
    "dev_x = [25, 26, 27, 28, 29, 30, 31, 32, 33, 34, 35] #age\r\n",
    "dev_y = [38496, 42000, 46752, 49320, 49000, 56000, 63316, 64928, 67317, 68748, 73752]\r\n",
    "\r\n",
    "py_dev_y = [40000, 48876, 49000, 49000, 50000, 54000, 70003, 70000, 71496, 75370, 83640]\r\n",
    "\r\n",
    "ja_dev_y = [37810, 55000, 55000, 50000, 55000, 75000, 76000, 75500, 75000, 68746, 74583]\r\n",
    "\r\n",
    "\r\n",
    "plt.plot(dev_x, ja_dev_y, label=\"Java\", color='m')\r\n",
    "plt.plot(dev_x, py_dev_y, label=\"Python\", color='y')\r\n",
    "\r\n",
    "\r\n",
    "# plt.fill_between(dev_x, py_dev_y)\r\n",
    "# plt.fill_between(dev_x, py_dev_y, alpha=0.2)\r\n",
    "\r\n",
    "Mean = 55000\r\n",
    "plt.fill_between(dev_x, py_dev_y, Median, alpha=0.25)\r\n",
    "\r\n",
    "\r\n",
    "# plt.fill_between(dev_x, ja_dev_y, Mean, where=( np.array(ja_dev_y) > Mean), alpha=0.25, label=\"Above average\")\r\n",
    "# plt.fill_between(dev_x, py_dev_y, Mean, where=( np.array(py_dev_y) <= Mean), alpha=0.25, label=\"Below average\")\r\n",
    "\r\n",
    "\r\n",
    "plt.ylabel('Median developer age')\r\n",
    "plt.xlabel('Average Salaries')\r\n",
    "plt.title('Median Developer Salaries by Age')\r\n",
    "plt.legend()\r\n",
    "plt.show()\r\n",
    "\r\n",
    "\r\n",
    "\r\n",
    "\r\n"
   ],
   "outputs": [
    {
     "output_type": "display_data",
     "data": {
      "text/plain": [
       "<Figure size 432x288 with 1 Axes>"
      ],
      "image/png": "[encoded data removed]"
     },
     "metadata": {}
    }
   ],
   "metadata": {}
  },
  {
   "cell_type": "code",
   "execution_count": 1,
   "source": [
    "# make data for classification / ایجاد دیتا نمونه برای دسته بندی\r\n",
    "\r\n",
    "%matplotlib inline\r\n",
    "import matplotlib.pyplot as plt\r\n",
    "import numpy as np\r\n",
    "\r\n",
    "np.random.seed(0)\r\n",
    "\r\n",
    "n_pts = 100  # تعداد داده برای هر رنگ\r\n",
    "\r\n",
    "x1= np.random.normal(10, 2, n_pts)\r\n",
    "x2 = np.random.normal(10, 2, n_pts)\r\n",
    "y1 = np.random.normal(5, 2, n_pts)\r\n",
    "y2 = np.random.normal(6, 2, n_pts)\r\n",
    "\r\n",
    "top_region = np.array([x1, x2]).T\r\n",
    "bottom = np.array([y1, y2]).T\r\n",
    "_, ax= plt.subplots(figsize=(4,4))\r\n",
    "ax.scatter(top_region[:,0], top_region[:, 1], color= 'r')\r\n",
    "ax.scatter(bottom[:,0], bottom[:, 1], color= 'b')\r\n",
    "plt.show()\r\n",
    "\r\n",
    "\r\n"
   ],
   "outputs": [
    {
     "output_type": "display_data",
     "data": {
      "text/plain": [
       "<Figure size 288x288 with 1 Axes>"
      ],
      "image/png": "[encoded data removed]"
     },
     "metadata": {
      "needs_background": "light"
     }
    }
   ],
   "metadata": {}
  },
  {
   "cell_type": "code",
   "execution_count": null,
   "source": [
    "\r\n"
   ],
   "outputs": [],
   "metadata": {}
  },
  {
   "cell_type": "code",
   "execution_count": null,
   "source": [],
   "outputs": [],
   "metadata": {}
  },
  {
   "cell_type": "markdown",
   "source": [
    "# advance"
   ],
   "metadata": {}
  },
  {
   "cell_type": "code",
   "execution_count": null,
   "source": [
    "# https://7learn.com/ai/machine-learning/matplotlib-and-seaborn-library-tutorial\r\n",
    "\r\n",
    "\r\n",
    "\r\n",
    "\r\n",
    "numbers = np.random.normal(25000, 15000, 20000)\r\n",
    "plt.hist(numbers,4)  #50 is Y Axis\r\n",
    "plt.show()\r\n",
    "\r\n",
    "plt.hist(numbers,100) \r\n",
    "plt.show()\r\n"
   ],
   "outputs": [],
   "metadata": {}
  },
  {
   "cell_type": "code",
   "execution_count": null,
   "source": [
    "\r\n",
    "import numpy as np\r\n",
    "import matplotlib.pyplot as plt \r\n",
    "values = np.random.uniform(-10.0, 10.0, 10000)\r\n",
    "plt.hist(values,10)\r\n",
    "plt.show()"
   ],
   "outputs": [],
   "metadata": {}
  },
  {
   "cell_type": "code",
   "execution_count": null,
   "source": [
    "from scipy.stats import expon \r\n",
    "import matplotlib.pyplot as plt\r\n",
    "\r\n",
    "x = np.arange(0, 10, 0.001)\r\n",
    "plt.plot(x, expon.pdf(x))"
   ],
   "outputs": [],
   "metadata": {}
  },
  {
   "cell_type": "code",
   "execution_count": null,
   "source": [
    "from scipy.stats import binom \r\n",
    "import matplotlib.pyplot as plt\r\n",
    "import numpy as np\r\n",
    "\r\n",
    "x = np.arange(0, 10, 0.001)\r\n",
    "plt.plot(x, binom.pmf(x, 10, 0.3))  "
   ],
   "outputs": [],
   "metadata": {}
  },
  {
   "cell_type": "code",
   "execution_count": null,
   "source": [],
   "outputs": [],
   "metadata": {}
  },
  {
   "cell_type": "code",
   "execution_count": null,
   "source": [
    "%matplotlib inline  \r\n",
    "import pandas as pd\r\n",
    "import seaborn as sb\r\n",
    "\r\n",
    "data = pd.read_csv('cars.csv')\r\n",
    "num_counter = data['# Gears'].value_counts()   # تعداد آیتم هایی که تکرار شده\r\n",
    "print(num_counter.head)\r\n",
    "num_counter.plot(kind= 'bar')\r\n",
    "sb.set()  # تنظیمات سی بورن به مت پلات اعمال میشود\r\n",
    "num_counter.plot(kind= 'bar')\r\n",
    "# sb.distplot(data[''])  # هم نرده ای هم خطی  "
   ],
   "outputs": [],
   "metadata": {}
  },
  {
   "cell_type": "code",
   "execution_count": null,
   "source": [
    "\r\n",
    "data2 = data[['Cylinders','CityMPG','HwyMPG','CombMPG']]\r\n",
    "data2.head()\r\n",
    "\r\n",
    "sb.pairplot(data=data2, hue='Cylinders', height=2.5)\r\n",
    "\r\n",
    "\r\n",
    "\r\n",
    "\r\n",
    "# sb.jointplot(x= 'Eng Displ', y= 'CombMPG', data= data)\r\n",
    "\r\n"
   ],
   "outputs": [],
   "metadata": {}
  },
  {
   "cell_type": "code",
   "execution_count": null,
   "source": [
    "sb.scatterplot(data= data ,x= 'Eng Displ', y= 'CombMPG')\r\n"
   ],
   "outputs": [],
   "metadata": {}
  },
  {
   "cell_type": "code",
   "execution_count": null,
   "source": [
    "data = pd.read_csv('cars.csv') #??\r\n",
    "sb.lmplot(x='Eng Displ', y='CombMPG', data=data)"
   ],
   "outputs": [],
   "metadata": {}
  },
  {
   "cell_type": "code",
   "execution_count": null,
   "source": [
    "data = pd.read_csv('cars.csv')\r\n",
    "sb.set(rc= {'figure.figsize': (15,5)})\r\n",
    "ax = sb.boxplot(x='Mfr Name', y='CombMPG', data=data)\r\n",
    "ax.set_xticklabels(ax.get_xticklabels(), rotation= 90)"
   ],
   "outputs": [],
   "metadata": {}
  },
  {
   "cell_type": "code",
   "execution_count": null,
   "source": [
    "sb.set(rc= {'figure.figsize': (15,5)})\r\n",
    "ax = sb.swarmplot(x='Mfr Name', y='CombMPG', data=data)\r\n",
    "ax.set_xticklabels(ax.get_xticklabels(), rotation= 90)"
   ],
   "outputs": [],
   "metadata": {}
  },
  {
   "cell_type": "code",
   "execution_count": null,
   "source": [
    "sb.set(rc= {'figure.figsize': (15,5)})\r\n",
    "ax = sb.countplot(x='Mfr Name',data=data)\r\n",
    "ax.set_xticklabels(ax.get_xticklabels(), rotation= 90)"
   ],
   "outputs": [],
   "metadata": {}
  },
  {
   "cell_type": "code",
   "execution_count": null,
   "source": [
    "import numpy as np\r\n",
    "x = [1, 2, 3]\r\n",
    "y = [4, 5, 6]\r\n",
    "def de_mean(values):\r\n",
    "    values_mean = np.mean(values)\r\n",
    "    return [xi - values_mean for xi in values]\r\n",
    "\r\n",
    "print(de_mean(x))\r\n",
    "print(de_mean(y))  "
   ],
   "outputs": [],
   "metadata": {}
  },
  {
   "cell_type": "code",
   "execution_count": null,
   "source": [
    "import numpy as np\r\n",
    "import matplotlib.pyplot as plt\r\n",
    "def covariance(a, b):\r\n",
    "    n = len(a)\r\n",
    "    return np.dot(de_mean(a), de_mean(b)) / (n-1)\r\n",
    "page_speed = np.random.normal(3.0, 1.0, 1000)\r\n",
    "page_requests = np.random.normal(50.0, 10.0, 1000)\r\n",
    "page_visit = np.random.normal(50.0, 10.0, 1000)/ page_speed\r\n",
    "\r\n",
    "print(covariance(page_speed, page_requests))\r\n",
    "plt.scatter(page_speed, page_requests)\r\n"
   ],
   "outputs": [],
   "metadata": {}
  },
  {
   "cell_type": "code",
   "execution_count": null,
   "source": [
    "print(covariance(page_speed, page_visit))\r\n",
    "plt.scatter(page_speed, page_visit)\r\n"
   ],
   "outputs": [],
   "metadata": {}
  },
  {
   "cell_type": "code",
   "execution_count": null,
   "source": [
    "def corralation(x, y):\r\n",
    "    std_x = x.std()\r\n",
    "    std_y = y.std()\r\n",
    "    return covariance(x,y) / std_x / std_y\r\n",
    "    \r\n",
    "corralation(page_speed, page_requests)"
   ],
   "outputs": [],
   "metadata": {}
  },
  {
   "cell_type": "code",
   "execution_count": null,
   "source": [
    "PE = float(totalpurchases/ 100000.0)\r\n",
    "print(f\"%{str(PE)[2:4]}\")"
   ],
   "outputs": [],
   "metadata": {}
  },
  {
   "cell_type": "code",
   "execution_count": null,
   "source": [],
   "outputs": [],
   "metadata": {}
  }
 ],
 "metadata": {
  "interpreter": {
   "hash": "770021e68aae5e5bc49f7a3b6edb919a4a251fef8e7696fd47196c25263b13c4"
  },
  "kernelspec": {
   "name": "python3",
   "display_name": "Python 3.8.5 64-bit ('base': conda)"
  },
  "language_info": {
   "name": "python",
   "version": "3.8.5",
   "mimetype": "text/x-python",
   "codemirror_mode": {
    "name": "ipython",
    "version": 3
   },
   "pygments_lexer": "ipython3",
   "nbconvert_exporter": "python",
   "file_extension": ".py"
  },
  "orig_nbformat": 4
 },
 "nbformat": 4,
 "nbformat_minor": 2
}