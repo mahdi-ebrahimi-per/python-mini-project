{
 "cells": [
  {
   "cell_type": "code",
   "execution_count": null,
   "source": [
    "import os\r\n",
    "\r\n",
    "#https://docs.python.org/3/library/os.html"
   ],
   "outputs": [],
   "metadata": {}
  },
  {
   "cell_type": "code",
   "execution_count": null,
   "source": [
    "# change directory / تغییر دایرکتوری\r\n",
    "\r\n",
    "print(os.getcwd())\r\n",
    "\r\n",
    "os.chdir('..')   #or any address (../.. two previous dir)\r\n",
    "\r\n",
    "print(os.getcwd())\r\n"
   ],
   "outputs": [],
   "metadata": {}
  },
  {
   "cell_type": "code",
   "execution_count": null,
   "source": [
    "# directory list of current dir / لیست دایرکتوری های درون دایرکتوری کنونی\r\n",
    "\r\n",
    "print(os.listdir())\r\n"
   ],
   "outputs": [],
   "metadata": {}
  },
  {
   "cell_type": "code",
   "execution_count": null,
   "source": [
    "# make directory / ایجاد دایرکتوری\r\n",
    "\r\n",
    "#without sub dir / نمیتوان دایرکتوری زیر شاخه ایجاد کرد\r\n",
    "os.mkdir('test1')\r\n",
    "# ('test1/sub-dir1') # --> error\r\n",
    "\r\n",
    "# with dub dir / میتوان دایرکتوری زیرشاخه نیز ایجاد کرد\r\n",
    "os.makedirs('test2')\r\n",
    "os.makedirs('test2/sub-dir1/sub-sub-dir1')\r\n"
   ],
   "outputs": [],
   "metadata": {}
  },
  {
   "cell_type": "code",
   "execution_count": null,
   "source": [
    "# remove directory / حذف دایرکتوری\r\n",
    "\r\n",
    "#make test / ایجاد تست 1\r\n",
    "os.mkdir('test1/sub-dir1')\r\n",
    "\r\n",
    "\r\n",
    "#remove test 1 / حذف تست 1\r\n",
    "os.rmdir('test1')\r\n",
    "# ('test1/subdir1') # --> error\r\n",
    "\r\n",
    "os.removedirs('test1/sub-dir1')\r\n",
    "\r\n",
    "\r\n"
   ],
   "outputs": [],
   "metadata": {}
  },
  {
   "cell_type": "code",
   "execution_count": null,
   "source": [
    "# rename / تغییر نام\r\n",
    "\r\n",
    "#meke txt file\r\n",
    "f = open(\"test.txt\", 'w')\r\n",
    "f.close()\r\n",
    "\r\n",
    "#raname\r\n",
    "os.rename('test.txt', 'demo.txt')\r\n"
   ],
   "outputs": [],
   "metadata": {}
  },
  {
   "cell_type": "code",
   "execution_count": null,
   "source": [],
   "outputs": [],
   "metadata": {}
  }
 ],
 "metadata": {
  "orig_nbformat": 4,
  "language_info": {
   "name": "python",
   "version": "3.8.5",
   "mimetype": "text/x-python",
   "codemirror_mode": {
    "name": "ipython",
    "version": 3
   },
   "pygments_lexer": "ipython3",
   "nbconvert_exporter": "python",
   "file_extension": ".py"
  },
  "kernelspec": {
   "name": "python3",
   "display_name": "Python 3.8.5 64-bit ('base': conda)"
  },
  "interpreter": {
   "hash": "770021e68aae5e5bc49f7a3b6edb919a4a251fef8e7696fd47196c25263b13c4"
  }
 },
 "nbformat": 4,
 "nbformat_minor": 2
}