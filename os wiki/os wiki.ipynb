{
 "cells": [
  {
   "cell_type": "code",
   "execution_count": null,
   "source": [
    "import os\r\n",
    "\r\n",
    "#https://docs.python.org/3/library/os.html"
   ],
   "outputs": [],
   "metadata": {}
  },
  {
   "cell_type": "code",
   "execution_count": null,
   "source": [
    "# change directory / تغییر دایرکتوری\r\n",
    "\r\n",
    "print(os.getcwd())\r\n",
    "\r\n",
    "os.chdir('..')   #or any address (../.. two previous dir)\r\n",
    "\r\n",
    "print(os.getcwd())\r\n"
   ],
   "outputs": [],
   "metadata": {}
  },
  {
   "cell_type": "code",
   "execution_count": null,
   "source": [
    "# directory list of current dir / لیست دایرکتوری های درون دایرکتوری کنونی\r\n",
    "\r\n",
    "print(os.listdir())\r\n"
   ],
   "outputs": [],
   "metadata": {}
  },
  {
   "cell_type": "code",
   "execution_count": null,
   "source": [
    "# make directory / ایجاد دایرکتوری\r\n",
    "\r\n",
    "#without sub dir / نمیتوان دایرکتوری زیر شاخه ایجاد کرد\r\n",
    "os.mkdir('test1')\r\n",
    "# ('test1/sub-dir1') # --> error\r\n",
    "\r\n",
    "# with dub dir / میتوان دایرکتوری زیرشاخه نیز ایجاد کرد\r\n",
    "os.makedirs('test2')\r\n",
    "os.makedirs('test2/sub-dir1/sub-sub-dir1')\r\n"
   ],
   "outputs": [],
   "metadata": {}
  },
  {
   "cell_type": "code",
   "execution_count": null,
   "source": [
    "# remove directory / حذف دایرکتوری\r\n",
    "\r\n",
    "#make test / ایجاد تست 1\r\n",
    "os.mkdir('test1/sub-dir1')\r\n",
    "\r\n",
    "\r\n",
    "#remove test 1 / حذف تست 1\r\n",
    "os.rmdir('test1')\r\n",
    "# ('test1/subdir1') # --> error\r\n",
    "\r\n",
    "os.removedirs('test1/sub-dir1')\r\n",
    "\r\n",
    "\r\n"
   ],
   "outputs": [],
   "metadata": {}
  },
  {
   "cell_type": "code",
   "execution_count": null,
   "source": [
    "# rename / تغییر نام\r\n",
    "\r\n",
    "#meke txt file\r\n",
    "f = open(\"test.txt\", 'w')\r\n",
    "f.close()\r\n",
    "\r\n",
    "#raname\r\n",
    "os.rename('test.txt', 'demo.txt')\r\n"
   ],
   "outputs": [],
   "metadata": {}
  },
  {
   "cell_type": "code",
   "execution_count": 1,
   "source": [
    "# status of file / مشخصات فایل\r\n",
    "\r\n",
    "#meke txt file\r\n",
    "f = open(\"demo.txt\", 'w')\r\n",
    "f.close()\r\n",
    "\r\n",
    "\r\n",
    "# all status (find in documentation about what are thease)\r\n",
    "# تمام اطلاعات (در داکیومنتیشن پیداکنید اینا چی هستند)\r\n",
    "print(os.stat('demo.txt'))\r\n",
    "\r\n",
    "#size (byte) / سایز به بایت\r\n",
    "print(os.stat('demo.txt').st_size)\r\n",
    "\r\n",
    "#modified time / زمان آخرین تغییر\r\n",
    "from datetime import datetime\r\n",
    "mtime = os.stat('demo.txt').st_mtime\r\n",
    "print(datetime.fromtimestamp(mtime))\r\n"
   ],
   "outputs": [
    {
     "output_type": "stream",
     "name": "stdout",
     "text": [
      "os.stat_result(st_mode=33206, st_ino=1970324837525973, st_dev=3123163335, st_nlink=1, st_uid=0, st_gid=0, st_size=0, st_atime=1628683559, st_mtime=1628683559, st_ctime=1628683559)\n",
      "0\n",
      "2021-08-11 16:35:59.045763\n"
     ]
    }
   ],
   "metadata": {}
  },
  {
   "cell_type": "code",
   "execution_count": null,
   "source": [
    "# traverse directoeies / دیدن تمام دایرکتوری و فایل های های درون تمام دایرکتوری\r\n",
    "\r\n",
    "from pathlib import Path\r\n",
    "\r\n",
    "for dirpath, dirname, filenames in os.walk(\"c:/Users/asus/Desktop/\"):\r\n",
    "        print(\"Current Path : \", dirpath)\r\n",
    "        print(\"Directories : \", dirname)\r\n",
    "        print('Files : ', filenames)\r\n",
    "\r\n"
   ],
   "outputs": [],
   "metadata": {}
  },
  {
   "cell_type": "code",
   "execution_count": 2,
   "source": [
    "# get var mian address / گرفتن آدرس دایرکتوری های متغیر اصلی\r\n",
    "\r\n",
    "import pprint\r\n",
    "\r\n",
    "# see all environments\r\n",
    "env_var = os.environ\r\n",
    "print(\"User's Environment variable:\")\r\n",
    "pprint.pprint(dict(env_var), width = 1)\r\n",
    "\r\n",
    "\r\n",
    "print(os.environ.get('windir'))\r\n",
    "\r\n",
    "print(os.environ.get('APPDATA'))\r\n",
    "\r\n",
    "print(os.environ.get('temp'))\r\n",
    "\r\n"
   ],
   "outputs": [
    {
     "output_type": "stream",
     "name": "stdout",
     "text": [
      "User's Environment variable:\n"
     ]
    },
    {
     "output_type": "error",
     "ename": "NameError",
     "evalue": "name 'pprint' is not defined",
     "traceback": [
      "\u001b[1;31m---------------------------------------------------------------------------\u001b[0m",
      "\u001b[1;31mNameError\u001b[0m                                 Traceback (most recent call last)",
      "\u001b[1;32m<ipython-input-2-d263d8bba776>\u001b[0m in \u001b[0;36m<module>\u001b[1;34m\u001b[0m\n\u001b[0;32m      4\u001b[0m \u001b[0menv_var\u001b[0m \u001b[1;33m=\u001b[0m \u001b[0mos\u001b[0m\u001b[1;33m.\u001b[0m\u001b[0menviron\u001b[0m\u001b[1;33m\u001b[0m\u001b[1;33m\u001b[0m\u001b[0m\n\u001b[0;32m      5\u001b[0m \u001b[0mprint\u001b[0m\u001b[1;33m(\u001b[0m\u001b[1;34m\"User's Environment variable:\"\u001b[0m\u001b[1;33m)\u001b[0m\u001b[1;33m\u001b[0m\u001b[1;33m\u001b[0m\u001b[0m\n\u001b[1;32m----> 6\u001b[1;33m \u001b[0mpprint\u001b[0m\u001b[1;33m.\u001b[0m\u001b[0mpprint\u001b[0m\u001b[1;33m(\u001b[0m\u001b[0mdict\u001b[0m\u001b[1;33m(\u001b[0m\u001b[0menv_var\u001b[0m\u001b[1;33m)\u001b[0m\u001b[1;33m,\u001b[0m \u001b[0mwidth\u001b[0m \u001b[1;33m=\u001b[0m \u001b[1;36m1\u001b[0m\u001b[1;33m)\u001b[0m\u001b[1;33m\u001b[0m\u001b[1;33m\u001b[0m\u001b[0m\n\u001b[0m\u001b[0;32m      7\u001b[0m \u001b[1;33m\u001b[0m\u001b[0m\n\u001b[0;32m      8\u001b[0m \u001b[1;33m\u001b[0m\u001b[0m\n",
      "\u001b[1;31mNameError\u001b[0m: name 'pprint' is not defined"
     ]
    }
   ],
   "metadata": {}
  },
  {
   "cell_type": "code",
   "execution_count": null,
   "source": [
    "# path / ادرس\r\n",
    "\r\n",
    "#join two pass \r\n",
    "print(os.path.join(\"\\Desktop\", \"test\"))\r\n",
    "\r\n",
    "#base name\r\n",
    "os.path.basename(\"Desktop/tmp.txt\")\r\n",
    "\r\n",
    "#dir name\r\n",
    "os.path.dirname(\"Desktop/tmp.txt\")\r\n",
    "\r\n",
    "#dir and base name\r\n",
    "direc, base = os.path.split(\"Desktop/tmp.txt\")\r\n",
    "print(direc,base)\r\n",
    "\r\n",
    "#exists (True False)\r\n",
    "print(os.path.exists(\"/Desktop/test1\"))\r\n",
    "\r\n",
    "# check path is directory or not (True False)\r\n",
    "print(os.path.isdir(\"/Desktop/tmp.txt\"))\r\n",
    "\r\n",
    "# check path is file or not (True False)\r\n",
    "print(os.path.isfile(\"/Desktop\"))\r\n",
    "\r\n",
    "# split format and name\r\n",
    "os.path.splitext(\"/Desktop/tmp.txt\")\r\n",
    "\r\n"
   ],
   "outputs": [],
   "metadata": {}
  },
  {
   "cell_type": "code",
   "execution_count": null,
   "source": [],
   "outputs": [],
   "metadata": {}
  }
 ],
 "metadata": {
  "orig_nbformat": 4,
  "language_info": {
   "name": "python",
   "version": "3.8.5",
   "mimetype": "text/x-python",
   "codemirror_mode": {
    "name": "ipython",
    "version": 3
   },
   "pygments_lexer": "ipython3",
   "nbconvert_exporter": "python",
   "file_extension": ".py"
  },
  "kernelspec": {
   "name": "python3",
   "display_name": "Python 3.8.5 64-bit ('base': conda)"
  },
  "interpreter": {
   "hash": "770021e68aae5e5bc49f7a3b6edb919a4a251fef8e7696fd47196c25263b13c4"
  }
 },
 "nbformat": 4,
 "nbformat_minor": 2
}