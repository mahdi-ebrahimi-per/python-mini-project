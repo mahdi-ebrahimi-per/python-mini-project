{
 "cells": [
  {
   "cell_type": "code",
   "execution_count": null,
   "source": [
    "import os\r\n",
    "\r\n",
    "#https://docs.python.org/3/library/os.html"
   ],
   "outputs": [],
   "metadata": {}
  },
  {
   "cell_type": "code",
   "execution_count": null,
   "source": [
    "# change directory / تغییر دایرکتوری\r\n",
    "\r\n",
    "print(os.getcwd())\r\n",
    "\r\n",
    "os.chdir('..')   #or any address (../.. two previous dir)\r\n",
    "\r\n",
    "print(os.getcwd())\r\n"
   ],
   "outputs": [],
   "metadata": {}
  },
  {
   "cell_type": "code",
   "execution_count": null,
   "source": [
    "# directory list of current dir / لیست دایرکتوری های درون دایرکتوری کنونی\r\n",
    "\r\n",
    "print(os.listdir())\r\n"
   ],
   "outputs": [],
   "metadata": {}
  },
  {
   "cell_type": "code",
   "execution_count": null,
   "source": [
    "# make directory / ایجاد دایرکتوری\r\n",
    "\r\n",
    "#without sub dir / نمیتوان دایرکتوری زیر شاخه ایجاد کرد\r\n",
    "os.mkdir('test1')\r\n",
    "# ('test1/sub-dir1') # --> error\r\n",
    "\r\n",
    "# with dub dir / میتوان دایرکتوری زیرشاخه نیز ایجاد کرد\r\n",
    "os.makedirs('test2')\r\n",
    "os.makedirs('test2/sub-dir1/sub-sub-dir1')\r\n"
   ],
   "outputs": [],
   "metadata": {}
  },
  {
   "cell_type": "code",
   "execution_count": null,
   "source": [
    "# remove directory / حذف دایرکتوری\r\n",
    "\r\n",
    "#make test / ایجاد تست 1\r\n",
    "os.mkdir('test1/sub-dir1')\r\n",
    "\r\n",
    "\r\n",
    "#remove test 1 / حذف تست 1\r\n",
    "os.rmdir('test1')\r\n",
    "# ('test1/subdir1') # --> error\r\n",
    "\r\n",
    "os.removedirs('test1/sub-dir1')\r\n",
    "\r\n",
    "\r\n"
   ],
   "outputs": [],
   "metadata": {}
  },
  {
   "cell_type": "code",
   "execution_count": null,
   "source": [
    "# rename / تغییر نام\r\n",
    "\r\n",
    "#meke txt file\r\n",
    "f = open(\"test.txt\", 'w')\r\n",
    "f.close()\r\n",
    "\r\n",
    "#raname\r\n",
    "os.rename('test.txt', 'demo.txt')\r\n"
   ],
   "outputs": [],
   "metadata": {}
  },
  {
   "cell_type": "code",
   "execution_count": null,
   "source": [
    "# status of file / مشخصات فایل\r\n",
    "\r\n",
    "#meke txt file\r\n",
    "f = open(\"demo.txt\", 'w')\r\n",
    "f.close()\r\n",
    "\r\n",
    "\r\n",
    "# all status (find in documentation about what are thease)\r\n",
    "# تمام اطلاعات (در داکیومنتیشن پیداکنید اینا چی هستند)\r\n",
    "print(os.stat('demo.txt'))\r\n",
    "\r\n",
    "#size (byte) / سایز به بایت\r\n",
    "print(os.stat('demo.txt').st_size)\r\n",
    "\r\n",
    "#modified time / زمان آخرین تغییر\r\n",
    "from datetime import datetime\r\n",
    "mtime = os.stat('demo.txt').st_mtime\r\n",
    "print(datetime.fromtimestamp(mtime))\r\n"
   ],
   "outputs": [],
   "metadata": {}
  },
  {
   "cell_type": "code",
   "execution_count": null,
   "source": [
    "# traverse directoeies / دیدن تمام دایرکتوری و فایل های های درون تمام دایرکتوری\r\n",
    "\r\n",
    "from pathlib import Path\r\n",
    "\r\n",
    "for dirpath, dirname, filenames in os.walk(\"c:/Users/asus/Desktop/\"):\r\n",
    "        print(\"Current Path : \", dirpath)\r\n",
    "        print(\"Directories : \", dirname)\r\n",
    "        print('Files : ', filenames)\r\n",
    "\r\n"
   ],
   "outputs": [],
   "metadata": {}
  },
  {
   "cell_type": "code",
   "execution_count": null,
   "source": [
    "# get var mian address / گرفتن آدرس دایرکتوری های متغیر اصلی\r\n",
    "\r\n",
    "# see all environments\r\n",
    "env_var = os.environ\r\n",
    "print(\"User's Environment variable:\")\r\n",
    "pprint.pprint(dict(env_var), width = 1)\r\n",
    "\r\n",
    "\r\n",
    "print(os.environ.get('windir'))\r\n",
    "\r\n",
    "print(os.environ.get('APPDATA'))\r\n",
    "\r\n",
    "print(os.environ.get('APPDATA'))\r\n",
    "\r\n"
   ],
   "outputs": [],
   "metadata": {}
  },
  {
   "cell_type": "code",
   "execution_count": null,
   "source": [],
   "outputs": [],
   "metadata": {}
  }
 ],
 "metadata": {
  "orig_nbformat": 4,
  "language_info": {
   "name": "python",
   "version": "3.8.5",
   "mimetype": "text/x-python",
   "codemirror_mode": {
    "name": "ipython",
    "version": 3
   },
   "pygments_lexer": "ipython3",
   "nbconvert_exporter": "python",
   "file_extension": ".py"
  },
  "kernelspec": {
   "name": "python3",
   "display_name": "Python 3.8.5 64-bit ('base': conda)"
  },
  "interpreter": {
   "hash": "770021e68aae5e5bc49f7a3b6edb919a4a251fef8e7696fd47196c25263b13c4"
  }
 },
 "nbformat": 4,
 "nbformat_minor": 2
}