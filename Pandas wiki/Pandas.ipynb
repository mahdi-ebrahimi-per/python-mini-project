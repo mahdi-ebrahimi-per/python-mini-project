{
 "cells": [
  {
   "cell_type": "code",
   "execution_count": 1,
   "metadata": {},
   "outputs": [],
   "source": [
    "# import library / وارد کردن کتابخانه\r\n",
    "\r\n",
    "import pandas as pd\r\n",
    "\r\n"
   ]
  },
  {
   "cell_type": "code",
   "execution_count": 18,
   "metadata": {},
   "outputs": [
    {
     "name": "stdout",
     "output_type": "stream",
     "text": [
      "['first' 'secend' 'third' 'forth']\n",
      "RangeIndex(start=0, stop=4, step=1)\n",
      "0     first\n",
      "1    secend\n",
      "2     third\n",
      "3     forth\n",
      "dtype: object\n"
     ]
    }
   ],
   "source": [
    "# ایجاد سری دیتا\r\n",
    "# create data series\r\n",
    "\r\n",
    "data = pd.Series(['first', 'secend','third','forth'])\r\n",
    "\r\n",
    "# values / مقادیر\r\n",
    "print(data.values)\r\n",
    "\r\n",
    "# index range / رنج ایندکس ها\r\n",
    "print(data.index)\r\n",
    "\r\n",
    "# show all values with index / نمایش همه ی مقادیر با جایگاه یا همان ایندکس\r\n",
    "print(data[data.index])  # data[data.index] = data[:] = print(data)\r\n"
   ]
  },
  {
   "cell_type": "code",
   "execution_count": 14,
   "metadata": {},
   "outputs": [
    {
     "name": "stdout",
     "output_type": "stream",
     "text": [
      "1\n"
     ]
    },
    {
     "ename": "TypeError",
     "evalue": "'Series' object cannot be interpreted as an integer",
     "output_type": "error",
     "traceback": [
      "\u001b[1;31m---------------------------------------------------------------------------\u001b[0m",
      "\u001b[1;31mTypeError\u001b[0m                                 Traceback (most recent call last)",
      "\u001b[1;32m<ipython-input-14-dc788064231a>\u001b[0m in \u001b[0;36m<module>\u001b[1;34m\u001b[0m\n\u001b[0;32m      8\u001b[0m \u001b[0mprint\u001b[0m\u001b[1;33m(\u001b[0m\u001b[0mx\u001b[0m\u001b[1;33m[\u001b[0m\u001b[1;34m'a'\u001b[0m\u001b[1;33m]\u001b[0m\u001b[1;33m)\u001b[0m\u001b[1;33m\u001b[0m\u001b[1;33m\u001b[0m\u001b[0m\n\u001b[0;32m      9\u001b[0m \u001b[1;33m\u001b[0m\u001b[0m\n\u001b[1;32m---> 10\u001b[1;33m \u001b[1;32mfor\u001b[0m \u001b[0mi\u001b[0m \u001b[1;32min\u001b[0m \u001b[0mrange\u001b[0m\u001b[1;33m(\u001b[0m\u001b[0mx\u001b[0m\u001b[1;33m-\u001b[0m\u001b[1;36m1\u001b[0m\u001b[1;33m)\u001b[0m\u001b[1;33m:\u001b[0m\u001b[1;33m\u001b[0m\u001b[1;33m\u001b[0m\u001b[0m\n\u001b[0m\u001b[0;32m     11\u001b[0m     \u001b[0mprint\u001b[0m\u001b[1;33m(\u001b[0m\u001b[0mx\u001b[0m\u001b[1;33m[\u001b[0m\u001b[0mi\u001b[0m\u001b[1;33m]\u001b[0m\u001b[1;33m)\u001b[0m\u001b[1;33m\u001b[0m\u001b[1;33m\u001b[0m\u001b[0m\n\u001b[0;32m     12\u001b[0m \u001b[1;33m\u001b[0m\u001b[0m\n",
      "\u001b[1;31mTypeError\u001b[0m: 'Series' object cannot be interpreted as an integer"
     ]
    }
   ],
   "source": [
    "# تعریف اینکس\r\n",
    "# define index\r\n",
    "\r\n",
    "\r\n",
    "x = pd.Series(data=[1,2,3,4] ,\r\n",
    "        index=[\"a\",\"b\",\"c\",\"d\"])\r\n",
    "\r\n",
    "print(x['a'])\r\n",
    "## print(x[1])  # --> error\r\n",
    "\r\n"
   ]
  },
  {
   "cell_type": "code",
   "execution_count": 20,
   "metadata": {},
   "outputs": [
    {
     "name": "stdout",
     "output_type": "stream",
     "text": [
      "Mahdi       16\n",
      "Mohammad    20\n",
      "Tayebeh     24\n",
      "Sara        30\n",
      "Ali         40\n",
      "dtype: int64\n",
      "16\n"
     ]
    }
   ],
   "source": [
    "# ایجاد سری دیتا از دیکشنری\r\n",
    "# Create data series from dictionary\r\n",
    "\r\n",
    "\r\n",
    "age = {\r\n",
    "        \"Mahdi\" : 16,\r\n",
    "        \"Mohammad\" : 20,\r\n",
    "        \"Tayebeh\": 24,\r\n",
    "        \"Sara\": 30,\r\n",
    "        \"Ali\": 40,\r\n",
    "}\r\n",
    "\r\n",
    "familyAge = pd.Series(age)\r\n",
    "\r\n",
    "print(familyAge)\r\n",
    "\r\n",
    "# return value of one index / مقدار یک اینکس\r\n",
    "print(familyAge['Mahdi'])\r\n",
    "\r\n",
    "## names are index  and  ages are values  /  اسم ها جایگاه یا ایندکس هستند و سن ها مقدار\r\n"
   ]
  },
  {
   "cell_type": "markdown",
   "metadata": {},
   "source": [
    "***نکته***\r\n",
    "<br>\r\n",
    "اگر یک داده رو در چند ایندکس معرفی کنیم، در تمام آن ایندکس ها داده ما جا میگیرد\r\n",
    "\r\n",
    "<br>\r\n",
    "\r\n",
    "***Point***\r\n",
    "<br>\r\n",
    "If we set a data in several indexes, our data will fit in all those indexes\r\n",
    "\r\n",
    "\r\n",
    "***Example / مثال***\r\n",
    "<br>\r\n",
    "data = pd.Series(data=5, index=[1, 3, 10])\r\n",
    "<br>\r\n",
    "→ \r\n",
    "<br>\r\n",
    "1      5\r\n",
    "<br>\r\n",
    "3      5\r\n",
    "<br>\r\n",
    "10     5\r\n",
    "\r\n",
    "\r\n"
   ]
  },
  {
   "cell_type": "code",
   "execution_count": 25,
   "metadata": {},
   "outputs": [
    {
     "name": "stdout",
     "output_type": "stream",
     "text": [
      "2    a\n",
      "3    b\n",
      "4    c\n",
      "dtype: object\n",
      "4    c\n",
      "3    b\n",
      "2    a\n",
      "dtype: object\n"
     ]
    }
   ],
   "source": [
    "# تغییر جایگاه یا ایندکس\r\n",
    "# change index\r\n",
    "\r\n",
    "x = pd.Series({2:'a', 3:'b', 4:'c'})\r\n",
    "\r\n",
    "print(x)\r\n",
    "\r\n",
    "# change index to reverse / تغییر اندکس ها به صورت برعکس\r\n",
    "x = pd.Series(data=x, index=[4,3,2])\r\n",
    "\r\n",
    "print(x)\r\n",
    "\r\n",
    "\r\n"
   ]
  },
  {
   "cell_type": "code",
   "execution_count": 28,
   "metadata": {},
   "outputs": [
    {
     "name": "stdout",
     "output_type": "stream",
     "text": [
      "   a    b    c    d\n",
      "0  1  2.0  NaN  NaN\n",
      "1  1  NaN  3.0  4.0\n"
     ]
    }
   ],
   "source": [
    "# ایجاد دیتا فریم\r\n",
    "# create data frame\r\n",
    "\r\n",
    "data = pd.DataFrame([ {'a' : 1, 'b' : 2} , {'a' : 1 , 'c' : 3, 'd' : 4} ])\r\n",
    "print(data)\r\n",
    "\r\n"
   ]
  },
  {
   "cell_type": "code",
   "execution_count": 65,
   "metadata": {},
   "outputs": [
    {
     "name": "stdout",
     "output_type": "stream",
     "text": [
      "      first    secend\n",
      "a  0.117708  0.836920\n",
      "b  0.829319  0.864575\n",
      "c  0.736217  0.707234\n",
      "   a  b  c\n",
      "0  1  2  3\n",
      "1  4  5  6\n",
      "2  7  8  9\n"
     ]
    }
   ],
   "source": [
    "# ایجاد دیتا فریم به صورت دستی\r\n",
    "# Create Data Frame manually \r\n",
    "\r\n",
    "import numpy as np\r\n",
    "\r\n",
    "data = pd.DataFrame(np.random.rand(3,2),columns=[\"first\",\"secend\"]\r\n",
    "        ,index=[\"a\",\"b\",\"c\"])\r\n",
    "\r\n",
    "print(data)\r\n",
    "\r\n",
    "\r\n",
    "data = pd.DataFrame(np.array([[1, 2, 3], [4, 5, 6], [7, 8, 9]]),\r\n",
    "        columns=['a', 'b', 'c'])\r\n",
    "\r\n",
    "print(data)\r\n"
   ]
  },
  {
   "cell_type": "code",
   "execution_count": 53,
   "metadata": {},
   "outputs": [
    {
     "name": "stdout",
     "output_type": "stream",
     "text": [
      "   first  secend\n",
      "a      1       4\n",
      "b      2       5\n",
      "c      3       6\n",
      "        a  b  c\n",
      "first   1  2  3\n",
      "secend  4  5  6\n",
      "        a  b  c\n",
      "first   1  2  3\n",
      "secend  4  5  6\n"
     ]
    }
   ],
   "source": [
    "# جابجایی ردیف و ستون\r\n",
    "# Replace rows and columns\r\n",
    "\r\n",
    "data = pd.DataFrame( {'first' : [1,2,3], 'secend':[4,5,6]},columns=[\"first\",\"secend\"]\r\n",
    "        ,index=[\"a\",\"b\",\"c\"])#.T\r\n",
    "\r\n",
    "# simple\r\n",
    "print(data)\r\n",
    "\r\n",
    "# replaced / جابجا شده\r\n",
    "print(data.T)\r\n",
    "print(pd.DataFrame(data).T)\r\n",
    "\r\n",
    "## بذاریم data در آخر تعریف دیتا فریم در متغیر .T میتوانیم یک\r\n",
    "## we can type \".T\" in end of the define data frame in \"data\" variable\r\n"
   ]
  },
  {
   "cell_type": "code",
   "execution_count": 64,
   "metadata": {},
   "outputs": [
    {
     "name": "stdout",
     "output_type": "stream",
     "text": [
      "   col1  col2\n",
      "0   1.2     3\n",
      "1   2.0     4\n",
      " dtypes :\n",
      "col1    float64\n",
      "col2      int64\n",
      "dtype: object\n",
      "____\n",
      " dtypes :\n",
      "col1    object\n",
      "col2      int8\n",
      "dtype: object\n",
      "  col1  col2\n",
      "0  1.2     3\n",
      "1    2     4\n"
     ]
    }
   ],
   "source": [
    "# انواع داده در دیتا فریم\r\n",
    "# Data types in Data Frame\r\n",
    "\r\n",
    "\r\n",
    "d = {'col1': [1.2, 2], 'col2': [3, 4]}\r\n",
    "\r\n",
    "df = pd.DataFrame(data=d)\r\n",
    "\r\n",
    "print(df)\r\n",
    "print(f' dtypes :\\n{df.dtypes}')\r\n",
    "\r\n",
    "print('____')\r\n",
    "\r\n",
    "df = pd.DataFrame(data=d, dtype=np.int8)\r\n",
    "print(f' dtypes :\\n{df.dtypes}')\r\n",
    "print(df)\r\n",
    "\r\n",
    "\r\n",
    "# The Data Types is explained in the Numpy wiki file\r\n",
    "# توضیح داده شده Numpy wiki دیتا تایپ ها در فایل\r\n",
    "# https://github.com/mahdi-ebrahimi-per/python-mini-projects/tree/main/Numpy%20wiki\r\n"
   ]
  },
  {
   "cell_type": "code",
   "execution_count": 80,
   "metadata": {},
   "outputs": [
    {
     "name": "stdout",
     "output_type": "stream",
     "text": [
      "   first  secend\n",
      "a      1       4\n",
      "b      2       5\n",
      "c      3       6\n",
      "   first  secend\n",
      "a      1       4\n",
      "b      2       5\n",
      "   first\n",
      "a      1\n",
      "b      2\n",
      "   first\n",
      "a      1\n",
      "b      2\n"
     ]
    }
   ],
   "source": [
    "# انتخاب بندی یا برش دادن\r\n",
    "# slicing\r\n",
    "\r\n",
    "\r\n",
    "data = pd.DataFrame( {'first' : [1,2,3], 'secend':[4,5,6]},columns=[\"first\",\"secend\"]\r\n",
    "        ,index=[\"a\",\"b\",\"c\"])#.T\r\n",
    "\r\n",
    "print(data)\r\n",
    "\r\n",
    "\r\n",
    "# Show up to row 2 (the columns do not make a difference)\r\n",
    "# تا سطر دوم رو نشون بده (ستون ها تفاوتی نمیکنند)\r\n",
    "print(data[:2])\r\n",
    "## print(data[:2, :1])   # --> error  (can't use [:x,:y], must use [:x]  and x is row, just slice just row)\r\n",
    "\r\n",
    "\r\n",
    "# slice row and column / انخاب هم سطر هم ستون\r\n",
    "# slice 2 row and first column / انتخاب 2 سطر و یک ستون\r\n",
    "print(data.iloc[:2, :1])\r\n",
    "\r\n",
    "\r\n",
    "# slice with value / انتخاب با کمک مقادیر\r\n",
    "print(data.loc[:'b', :'first'])\r\n",
    "\r\n",
    "\r\n"
   ]
  },
  {
   "cell_type": "code",
   "execution_count": null,
   "metadata": {},
   "outputs": [],
   "source": []
  }
 ],
 "metadata": {
  "interpreter": {
   "hash": "7e7df21fdf00a26e36d4e6310a308abb9513233b4a3ec64213ee6595ee7ec7bb"
  },
  "kernelspec": {
   "display_name": "Python 3.7.9 64-bit",
   "name": "python3"
  },
  "language_info": {
   "codemirror_mode": {
    "name": "ipython",
    "version": 3
   },
   "file_extension": ".py",
   "mimetype": "text/x-python",
   "name": "python",
   "nbconvert_exporter": "python",
   "pygments_lexer": "ipython3",
   "version": "3.8.5"
  },
  "orig_nbformat": 4
 },
 "nbformat": 4,
 "nbformat_minor": 2
}