{
 "cells": [
  {
   "cell_type": "code",
   "execution_count": 1,
   "metadata": {},
   "outputs": [],
   "source": [
    "# import library / وارد کردن کتابخانه\n",
    "\n",
    "import pandas as pd\n",
    "\n"
   ]
  },
  {
   "cell_type": "code",
   "execution_count": 18,
   "metadata": {},
   "outputs": [
    {
     "name": "stdout",
     "output_type": "stream",
     "text": [
      "['first' 'secend' 'third' 'forth']\n",
      "RangeIndex(start=0, stop=4, step=1)\n",
      "0     first\n",
      "1    secend\n",
      "2     third\n",
      "3     forth\n",
      "dtype: object\n"
     ]
    }
   ],
   "source": [
    "# ایجاد سری دیتا\n",
    "# create data series\n",
    "\n",
    "data = pd.Series(['first', 'secend','third','forth'])\n",
    "\n",
    "# values / مقادیر\n",
    "print(data.values)\n",
    "\n",
    "# index range / رنج ایندکس ها\n",
    "print(data.index)\n",
    "\n",
    "# show all values with index / نمایش همه ی مقادیر با جایگاه یا همان ایندکس\n",
    "print(data[data.index])  # data[data.index] = data[:] = print(data)\n"
   ]
  },
  {
   "cell_type": "code",
   "execution_count": 14,
   "metadata": {},
   "outputs": [
    {
     "name": "stdout",
     "output_type": "stream",
     "text": [
      "1\n"
     ]
    },
    {
     "ename": "TypeError",
     "evalue": "'Series' object cannot be interpreted as an integer",
     "output_type": "error",
     "traceback": [
      "\u001b[1;31m---------------------------------------------------------------------------\u001b[0m",
      "\u001b[1;31mTypeError\u001b[0m                                 Traceback (most recent call last)",
      "\u001b[1;32m<ipython-input-14-dc788064231a>\u001b[0m in \u001b[0;36m<module>\u001b[1;34m\u001b[0m\n\u001b[0;32m      8\u001b[0m \u001b[0mprint\u001b[0m\u001b[1;33m(\u001b[0m\u001b[0mx\u001b[0m\u001b[1;33m[\u001b[0m\u001b[1;34m'a'\u001b[0m\u001b[1;33m]\u001b[0m\u001b[1;33m)\u001b[0m\u001b[1;33m\u001b[0m\u001b[1;33m\u001b[0m\u001b[0m\n\u001b[0;32m      9\u001b[0m \u001b[1;33m\u001b[0m\u001b[0m\n\u001b[1;32m---> 10\u001b[1;33m \u001b[1;32mfor\u001b[0m \u001b[0mi\u001b[0m \u001b[1;32min\u001b[0m \u001b[0mrange\u001b[0m\u001b[1;33m(\u001b[0m\u001b[0mx\u001b[0m\u001b[1;33m-\u001b[0m\u001b[1;36m1\u001b[0m\u001b[1;33m)\u001b[0m\u001b[1;33m:\u001b[0m\u001b[1;33m\u001b[0m\u001b[1;33m\u001b[0m\u001b[0m\n\u001b[0m\u001b[0;32m     11\u001b[0m     \u001b[0mprint\u001b[0m\u001b[1;33m(\u001b[0m\u001b[0mx\u001b[0m\u001b[1;33m[\u001b[0m\u001b[0mi\u001b[0m\u001b[1;33m]\u001b[0m\u001b[1;33m)\u001b[0m\u001b[1;33m\u001b[0m\u001b[1;33m\u001b[0m\u001b[0m\n\u001b[0;32m     12\u001b[0m \u001b[1;33m\u001b[0m\u001b[0m\n",
      "\u001b[1;31mTypeError\u001b[0m: 'Series' object cannot be interpreted as an integer"
     ]
    }
   ],
   "source": [
    "# تعریف اینکس\n",
    "# define index\n",
    "\n",
    "\n",
    "x = pd.Series(data=[1,2,3,4] ,\n",
    "        index=[\"a\",\"b\",\"c\",\"d\"])\n",
    "\n",
    "print(x['a'])\n",
    "## print(x[1])  # --> error\n",
    "\n"
   ]
  },
  {
   "cell_type": "code",
   "execution_count": 20,
   "metadata": {},
   "outputs": [
    {
     "name": "stdout",
     "output_type": "stream",
     "text": [
      "Mahdi       16\n",
      "Mohammad    20\n",
      "Tayebeh     24\n",
      "Sara        30\n",
      "Ali         40\n",
      "dtype: int64\n",
      "16\n"
     ]
    }
   ],
   "source": [
    "# ایجاد سری دیتا از دیکشنری\n",
    "# Create data series from dictionary\n",
    "\n",
    "\n",
    "age = {\n",
    "        \"Mahdi\" : 16,\n",
    "        \"Mohammad\" : 20,\n",
    "        \"Tayebeh\": 24,\n",
    "        \"Sara\": 30,\n",
    "        \"Ali\": 40,\n",
    "}\n",
    "\n",
    "familyAge = pd.Series(age)\n",
    "\n",
    "print(familyAge)\n",
    "\n",
    "# return value of one index / مقدار یک اینکس\n",
    "print(familyAge['Mahdi'])\n",
    "\n",
    "## names are index  and  ages are values  /  اسم ها جایگاه یا ایندکس هستند و سن ها مقدار\n"
   ]
  },
  {
   "cell_type": "markdown",
   "metadata": {},
   "source": [
    "***نکته***\n",
    "<br>\n",
    "اگر یک داده رو در چند ایندکس معرفی کنیم، در تمام آن ایندکس ها داده ما جا میگیرد\n",
    "\n",
    "<br>\n",
    "\n",
    "***Point***\n",
    "<br>\n",
    "If we set a data in several indexes, our data will fit in all those indexes\n",
    "\n",
    "\n",
    "***Example / مثال***\n",
    "<br>\n",
    "data = pd.Series(data=5, index=[1, 3, 10])\n",
    "<br>\n",
    "→ \n",
    "<br>\n",
    "1      5\n",
    "<br>\n",
    "3      5\n",
    "<br>\n",
    "10     5\n",
    "\n",
    "\n"
   ]
  },
  {
   "cell_type": "code",
   "execution_count": 25,
   "metadata": {},
   "outputs": [
    {
     "name": "stdout",
     "output_type": "stream",
     "text": [
      "2    a\n",
      "3    b\n",
      "4    c\n",
      "dtype: object\n",
      "4    c\n",
      "3    b\n",
      "2    a\n",
      "dtype: object\n"
     ]
    }
   ],
   "source": [
    "# تغییر جایگاه یا ایندکس\n",
    "# change index\n",
    "\n",
    "x = pd.Series({2:'a', 3:'b', 4:'c'})\n",
    "\n",
    "print(x)\n",
    "\n",
    "# change index to reverse / تغییر اندکس ها به صورت برعکس\n",
    "x = pd.Series(data=x, index=[4,3,2])\n",
    "\n",
    "print(x)\n",
    "\n",
    "\n"
   ]
  },
  {
   "cell_type": "code",
   "execution_count": 28,
   "metadata": {},
   "outputs": [
    {
     "name": "stdout",
     "output_type": "stream",
     "text": [
      "   a    b    c    d\n",
      "0  1  2.0  NaN  NaN\n",
      "1  1  NaN  3.0  4.0\n"
     ]
    }
   ],
   "source": [
    "# ایجاد دیتا فریم\n",
    "# create data frame\n",
    "\n",
    "data = pd.DataFrame([ {'a' : 1, 'b' : 2} , {'a' : 1 , 'c' : 3, 'd' : 4} ])\n",
    "print(data)\n",
    "\n"
   ]
  },
  {
   "cell_type": "code",
   "execution_count": 65,
   "metadata": {},
   "outputs": [
    {
     "name": "stdout",
     "output_type": "stream",
     "text": [
      "      first    secend\n",
      "a  0.117708  0.836920\n",
      "b  0.829319  0.864575\n",
      "c  0.736217  0.707234\n",
      "   a  b  c\n",
      "0  1  2  3\n",
      "1  4  5  6\n",
      "2  7  8  9\n"
     ]
    }
   ],
   "source": [
    "# ایجاد دیتا فریم به صورت دستی\n",
    "# Create Data Frame manually \n",
    "\n",
    "import numpy as np\n",
    "\n",
    "data = pd.DataFrame(np.random.rand(3,2),columns=[\"first\",\"secend\"]\n",
    "        ,index=[\"a\",\"b\",\"c\"])\n",
    "\n",
    "print(data)\n",
    "\n",
    "\n",
    "data = pd.DataFrame(np.array([[1, 2, 3], [4, 5, 6], [7, 8, 9]]),\n",
    "        columns=['a', 'b', 'c'])\n",
    "\n",
    "print(data)\n"
   ]
  },
  {
   "cell_type": "code",
   "execution_count": 53,
   "metadata": {},
   "outputs": [
    {
     "name": "stdout",
     "output_type": "stream",
     "text": [
      "   first  secend\n",
      "a      1       4\n",
      "b      2       5\n",
      "c      3       6\n",
      "        a  b  c\n",
      "first   1  2  3\n",
      "secend  4  5  6\n",
      "        a  b  c\n",
      "first   1  2  3\n",
      "secend  4  5  6\n"
     ]
    }
   ],
   "source": [
    "# جابجایی ردیف و ستون\n",
    "# Replace rows and columns\n",
    "\n",
    "data = pd.DataFrame( {'first' : [1,2,3], 'secend':[4,5,6]},columns=[\"first\",\"secend\"]\n",
    "        ,index=[\"a\",\"b\",\"c\"])#.T\n",
    "\n",
    "# simple\n",
    "print(data)\n",
    "\n",
    "# replaced / جابجا شده\n",
    "print(data.T)\n",
    "print(pd.DataFrame(data).T)\n",
    "\n",
    "## بذاریم data در آخر تعریف دیتا فریم در متغیر .T میتوانیم یک\n",
    "## we can type \".T\" in end of the define data frame in \"data\" variable\n"
   ]
  },
  {
   "cell_type": "code",
   "execution_count": 64,
   "metadata": {},
   "outputs": [
    {
     "name": "stdout",
     "output_type": "stream",
     "text": [
      "   col1  col2\n",
      "0   1.2     3\n",
      "1   2.0     4\n",
      " dtypes :\n",
      "col1    float64\n",
      "col2      int64\n",
      "dtype: object\n",
      "____\n",
      " dtypes :\n",
      "col1    object\n",
      "col2      int8\n",
      "dtype: object\n",
      "  col1  col2\n",
      "0  1.2     3\n",
      "1    2     4\n"
     ]
    }
   ],
   "source": [
    "# انواع داده در دیتا فریم\n",
    "# Data types in Data Frame\n",
    "\n",
    "\n",
    "d = {'col1': [1.2, 2], 'col2': [3, 4]}\n",
    "\n",
    "df = pd.DataFrame(data=d)\n",
    "\n",
    "print(df)\n",
    "print(f' dtypes :\\n{df.dtypes}')\n",
    "\n",
    "print('____')\n",
    "\n",
    "df = pd.DataFrame(data=d, dtype=np.int8)\n",
    "print(f' dtypes :\\n{df.dtypes}')\n",
    "print(df)\n",
    "\n",
    "\n",
    "# The Data Types is explained in the Numpy wiki file\n",
    "# توضیح داده شده Numpy wiki دیتا تایپ ها در فایل\n",
    "# https://github.com/mahdi-ebrahimi-per/python-mini-projects/tree/main/Numpy%20wiki\n"
   ]
  },
  {
   "cell_type": "code",
   "execution_count": 80,
   "metadata": {},
   "outputs": [
    {
     "name": "stdout",
     "output_type": "stream",
     "text": [
      "   first  secend\n",
      "a      1       4\n",
      "b      2       5\n",
      "c      3       6\n",
      "   first  secend\n",
      "a      1       4\n",
      "b      2       5\n",
      "   first\n",
      "a      1\n",
      "b      2\n",
      "   first\n",
      "a      1\n",
      "b      2\n"
     ]
    }
   ],
   "source": [
    "# انتخاب بندی یا برش دادن\n",
    "# slicing\n",
    "\n",
    "\n",
    "data = pd.DataFrame( {'first' : [1,2,3], 'secend':[4,5,6]},columns=[\"first\",\"secend\"]\n",
    "        ,index=[\"a\",\"b\",\"c\"])#.T\n",
    "\n",
    "print(data)\n",
    "\n",
    "\n",
    "# Show up to row 2 (the columns do not make a difference)\n",
    "# تا سطر دوم رو نشون بده (ستون ها تفاوتی نمیکنند)\n",
    "print(data[:2])\n",
    "## print(data[:2, :1])   # --> error  (can't use [:x,:y], must use [:x]  and x is row, just slice just row)\n",
    "\n",
    "\n",
    "# slice row and column / انخاب هم سطر هم ستون\n",
    "# slice 2 row and first column / انتخاب 2 سطر و یک ستون\n",
    "print(data.iloc[:2, :1])\n",
    "\n",
    "\n",
    "# slice with value / انتخاب با کمک مقادیر\n",
    "print(data.loc[:'b', :'first'])\n",
    "\n",
    "\n"
   ]
  },
  {
   "cell_type": "code",
   "execution_count": 12,
   "metadata": {},
   "outputs": [
    {
     "data": {
      "text/plain": [
       "MultiIndex([(1,  'red'),\n",
       "            (1, 'blue'),\n",
       "            (2,  'red'),\n",
       "            (2, 'blue')],\n",
       "           names=['number', 'color'])"
      ]
     },
     "execution_count": 12,
     "metadata": {},
     "output_type": "execute_result"
    }
   ],
   "source": [
    "\n",
    "\n",
    "arrays = [[1, 1, 2, 2], ['red', 'blue', 'red', 'blue']]\n",
    "pd.MultiIndex.from_arrays(arrays, names=('number', 'color'))\n",
    "\n",
    "\n"
   ]
  },
  {
   "cell_type": "code",
   "execution_count": 11,
   "metadata": {},
   "outputs": [
    {
     "name": "stdout",
     "output_type": "stream",
     "text": [
      "   Animal  Max Speed\n",
      "0  Falcon      380.0\n",
      "1  Falcon      370.0\n",
      "2  Parrot       24.0\n",
      "3  Parrot       26.0\n",
      "        Max Speed\n",
      "Animal           \n",
      "Falcon      375.0\n",
      "Parrot       25.0\n",
      "_____________\n",
      "                Max Speed\n",
      "Animal Type              \n",
      "Falcon Captive      390.0\n",
      "       Wild         350.0\n",
      "Parrot Captive       30.0\n",
      "       Wild          20.0\n"
     ]
    }
   ],
   "source": [
    "#گروه بندی دیتافریم با یک مپ یا سری ستون ها\n",
    "#Group DataFrame using a mapper or by a Series of columns.\n",
    "\n",
    "#https://pandas.pydata.org/docs/reference/api/pandas.DataFrame.groupby.html\n",
    "\n",
    "df = pd.DataFrame({'Animal': ['Falcon', 'Falcon',\n",
    "                              'Parrot', 'Parrot'],\n",
    "                   'Max Speed': [380., 370., 24., 26.]})\n",
    "\n",
    "\n",
    "print(df)\n",
    "\n",
    "df = df.groupby(['Animal']).mean()\n",
    "\n",
    "print(df)\n",
    "\n",
    "print('_____________')\n",
    "\n",
    "\n",
    "arrays = [['Falcon', 'Falcon', 'Parrot', 'Parrot'],\n",
    "          ['Captive', 'Wild', 'Captive', 'Wild']]\n",
    "\n",
    "index = pd.MultiIndex.from_arrays(arrays, names=('Animal', 'Type'))\n",
    "\n",
    "df = pd.DataFrame({'Max Speed': [390., 350., 30., 20.]},\n",
    "                  index=index)\n",
    "\n",
    "print(df)\n",
    "\n"
   ]
  },
  {
   "cell_type": "code",
   "execution_count": null,
   "metadata": {},
   "outputs": [],
   "source": []
  }
 ],
 "metadata": {
  "interpreter": {
   "hash": "7e7df21fdf00a26e36d4e6310a308abb9513233b4a3ec64213ee6595ee7ec7bb"
  },
  "kernelspec": {
   "display_name": "Python 3.7.9 64-bit",
   "name": "python3"
  },
  "language_info": {
   "codemirror_mode": {
    "name": "ipython",
    "version": 3
   },
   "file_extension": ".py",
   "mimetype": "text/x-python",
   "name": "python",
   "nbconvert_exporter": "python",
   "pygments_lexer": "ipython3",
   "version": "3.8.5"
  },
  "orig_nbformat": 4
 },
 "nbformat": 4,
 "nbformat_minor": 2
}
