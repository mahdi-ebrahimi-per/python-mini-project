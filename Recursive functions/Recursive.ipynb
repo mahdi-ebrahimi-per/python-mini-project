{
 "cells": [
  {
   "cell_type": "markdown",
   "metadata": {},
   "source": [
    "***توابع بازگشتی***\n",
    "<br>\n",
    "***Recursive Functions***\n"
   ]
  },
  {
   "cell_type": "code",
   "execution_count": null,
   "metadata": {},
   "outputs": [],
   "source": [
    "#Factorial\n",
    "\n",
    "def fact(n):\n",
    "    if n == 1:\n",
    "        return 1\n",
    "    else:\n",
    "        return fact(n-1) * n"
   ]
  },
  {
   "cell_type": "code",
   "execution_count": null,
   "metadata": {},
   "outputs": [],
   "source": [
    "#Countdown\n",
    "\n",
    "def Countdown(n):\n",
    "    if n == 0 :\n",
    "        return 1\n",
    "\n",
    "    else:\n",
    "        print(n)\n",
    "        return Countdown(n - 1)\n",
    "\n",
    "Countdown(10)"
   ]
  },
  {
   "cell_type": "code",
   "execution_count": 3,
   "metadata": {},
   "outputs": [
    {
     "name": "stdout",
     "output_type": "stream",
     "text": [
      "3\n",
      "2\n",
      "1\n",
      "0\n",
      "1\n",
      "2\n",
      "3\n",
      "4\n",
      "5\n",
      "6\n",
      "7\n",
      "8\n",
      "9\n",
      "10\n",
      "None\n"
     ]
    }
   ],
   "source": [
    "#Count Down Up\n",
    "\n",
    "\n",
    "def Count_Down_Up(N, n):\n",
    "    if abs(n) > N:\n",
    "        return\n",
    "\n",
    "    else:\n",
    "        print(abs(n))\n",
    "        Count_Down_Up(N, n-1)\n",
    "\n",
    "\n",
    "print(Count_Down_Up(10, 3))\n"
   ]
  },
  {
   "cell_type": "code",
   "execution_count": null,
   "metadata": {},
   "outputs": [],
   "source": [
    "#GCD\n",
    "\n",
    "def GCD(a, b):\n",
    "    if a < b :\n",
    "        return GCD(a, b - a)\n",
    "    \n",
    "    elif b < a :\n",
    "        return GCD(a - b, b)\n",
    "\n",
    "    else:\n",
    "        return a\n",
    "\n",
    "print(GCD(6, 10))"
   ]
  },
  {
   "cell_type": "code",
   "execution_count": null,
   "metadata": {},
   "outputs": [],
   "source": [
    "# mode %\n",
    "\n",
    "def mode(a, b):\n",
    "    if a > b :\n",
    "        return mode(a-b, b)\n",
    "    \n",
    "    elif a < b:\n",
    "        return a\n",
    "\n",
    "\n"
   ]
  },
  {
   "cell_type": "code",
   "execution_count": null,
   "metadata": {},
   "outputs": [],
   "source": [
    "#Reverse\n",
    "\n",
    "def Reverse(string):\n",
    "    if string == \"\":\n",
    "        return string       # OR : return \"\" \n",
    "\n",
    "    else:\n",
    "        return Reverse(string[1:]) + string[0]\n",
    "\n",
    "\n",
    "print(Reverse('map'))\n"
   ]
  },
  {
   "cell_type": "code",
   "execution_count": null,
   "metadata": {},
   "outputs": [],
   "source": [
    "#Sum Of Digits   (No Loops & No Ltring)\n",
    "\n",
    "def sum_digits(nums):\n",
    "    if nums == 0:\n",
    "        return 0\n",
    "\n",
    "    return (nums % 10 + sum_digit( int(nums / 10) ))\n",
    "\n",
    "\n",
    "print(sum_digits(191))\n",
    "\n"
   ]
  },
  {
   "cell_type": "code",
   "execution_count": null,
   "metadata": {},
   "outputs": [],
   "source": [
    "#Palindrome\n",
    "\n",
    "def palindrome(string):\n",
    "    string = string.lower()\n",
    "\n",
    "    if len(string) == 0 or len(string) == 1:\n",
    "        return True\n",
    "\n",
    "    elif string[0] != string[-1]:\n",
    "        return False\n",
    "    \n",
    "    elif string[0] == string[-1]:\n",
    "        return palindrome(string[1 : -1])\n",
    "\n",
    "\n",
    "#بیهنه تر\n",
    "\n",
    "def palindrome(string):\n",
    "    string = string.lower()\n",
    "\n",
    "    if len(string) < 2:\n",
    "        return True\n",
    "\n",
    "    if string[0] != string[-1]:\n",
    "        return False\n",
    "    \n",
    "    return palindrome(string[1 : -1])\n",
    "\n",
    "\n",
    "    \n",
    "\n",
    "print(palindrome('Level'))      #T\n",
    "print(palindrome(''))           #T\n",
    "print(palindrome('L'))          #T\n",
    "print(palindrome('Loop'))       #F\n"
   ]
  },
  {
   "cell_type": "code",
   "execution_count": null,
   "metadata": {},
   "outputs": [],
   "source": [
    "#Fibonacci\n",
    "\n",
    "def fib(n):\n",
    "   if n <= 1:     \n",
    "       return n\n",
    "\n",
    "   else:\n",
    "       return(fib(n-1) + fib(n-2))\n",
    "\n",
    "\n",
    "fib(100)\n"
   ]
  },
  {
   "cell_type": "code",
   "execution_count": null,
   "metadata": {},
   "outputs": [],
   "source": []
  }
 ],
 "metadata": {
  "interpreter": {
   "hash": "770021e68aae5e5bc49f7a3b6edb919a4a251fef8e7696fd47196c25263b13c4"
  },
  "kernelspec": {
   "display_name": "Python 3",
   "language": "python",
   "name": "python3"
  },
  "language_info": {
   "codemirror_mode": {
    "name": "ipython",
    "version": 3
   },
   "file_extension": ".py",
   "mimetype": "text/x-python",
   "name": "python",
   "nbconvert_exporter": "python",
   "pygments_lexer": "ipython3",
   "version": "3.8.5"
  }
 },
 "nbformat": 4,
 "nbformat_minor": 2
}
