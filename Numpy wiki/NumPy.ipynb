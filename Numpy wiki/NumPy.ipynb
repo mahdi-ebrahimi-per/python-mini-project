{
 "cells": [
  {
   "cell_type": "code",
   "execution_count": 2,
   "metadata": {},
   "outputs": [],
   "source": [
    "import numpy as np\n",
    "\n",
    "np.random.seed(0)   "
   ]
  },
  {
   "cell_type": "code",
   "execution_count": null,
   "metadata": {},
   "outputs": [],
   "source": [
    "# آرایه یک بعدی با 4 عنصر رندوم\n",
    "# 1d array with 4 random value\n",
    "\n",
    "x = np.random.randint(10, size=4)      # 0 to 9\n",
    "x = np.random.randint(0,10 , size=4)   # 0 to 9\n",
    "\n",
    "\n",
    "print(x)\n"
   ]
  },
  {
   "cell_type": "code",
   "execution_count": null,
   "metadata": {},
   "outputs": [],
   "source": [
    "# آرایه دو بعدی 2 در 4 با عناصر رندوم\n",
    "# 2d 2 in 4 array with random values\n",
    "\n",
    "x = np.random.randint(10, size= (2,4) )\n",
    "\n",
    "print(x)\n"
   ]
  },
  {
   "cell_type": "code",
   "execution_count": null,
   "metadata": {},
   "outputs": [],
   "source": [
    "# آرایه سه بعدی، سه تا 2 در 4 با عناصر رندوم\n",
    "# 2d 3 * 2 in 4 array with random values\n",
    "\n",
    "x = np.random.randint(10, size= (3,2,4) )\n",
    "\n",
    "print(x)\n"
   ]
  },
  {
   "cell_type": "code",
   "execution_count": null,
   "metadata": {},
   "outputs": [],
   "source": [
    "# فهمیدن مشخصات مربوط به یک آرایه\r\n",
    "# find imformation about array\r\n",
    "\r\n",
    "x = np.random.randint(10, size= (3,4,4) )\r\n",
    "\r\n",
    "\r\n",
    "# بعد\r\n",
    "# dimension\r\n",
    "print(x.ndim)\r\n",
    "\r\n",
    "\r\n",
    "# چند در چند بودن\r\n",
    "#shape\r\n",
    "print(x.shape)\r\n",
    "\r\n",
    "\r\n",
    "# تعداد کل مقدادیر که حاصل ضرب ابعاد در هم است\r\n",
    "# number of all values equal to multiply of dimensions\r\n",
    "# 3 * 4 * 4 = 48\r\n",
    "print(x.size)\r\n",
    "\r\n",
    "\r\n",
    "# پیدا کردن دیتا تایپ\r\n",
    "# find data type\r\n",
    "print(x.dtype)\r\n",
    "\r\n",
    "\r\n",
    "\r\n",
    "#جحم\r\n",
    "#size\r\n",
    "print(x.itemsize, \"Bytes\")\r\n",
    "print(x.nbytes, \"Bytes\")"
   ]
  },
  {
   "cell_type": "markdown",
   "metadata": {},
   "source": [
    "***Data types***\r\n",
    "\r\n",
    "<pre>\r\n",
    "    i - integer\r\n",
    "    b - boolean\r\n",
    "    u - unsigned integer\r\n",
    "    f - float\r\n",
    "    c - complex float\r\n",
    "    m - timedelta\r\n",
    "    M - datetime\r\n",
    "    O - object\r\n",
    "    S - string\r\n",
    "    U - unicode string\r\n",
    "    V - fixed chunk of memory for other type ( void )\r\n",
    "\r\n",
    "\r\n",
    "'hello'  ->   U5\r\n",
    "'hello world'  ->   U11  \r\n",
    "array(['hello world', 'hello']).dtype   ->  U11\r\n",
    "\r\n",
    "i4  ->  intiger 4 byte\r\n",
    "U11 ->  unicode string 11 Byte\r\n",
    "\r\n",
    "i8 -> int64  -> 8 Byte  -> max 16 number\r\n",
    "i4 -> int32  -> 4 Byte  -> max 10 number\r\n",
    "i2 -> int16  -> 2 Byte  -> max 5 number\r\n",
    "i1 -> int8   -> 1 Byte  -> max 3 number \r\n",
    "                           for more number we must convert to O(object)\r\n",
    "\r\n",
    "\r\n",
    "</pre>"
   ]
  },
  {
   "cell_type": "code",
   "execution_count": 14,
   "metadata": {},
   "outputs": [
    {
     "name": "stdout",
     "output_type": "stream",
     "text": [
      "[1.1 2.1 3.1]\n",
      "float64\n",
      "[1 2 3]\n",
      "int32\n",
      "[ True False  True  True]\n"
     ]
    }
   ],
   "source": [
    "# دیتا تایپ ها یا انواع داده\r\n",
    "# data type\r\n",
    "\r\n",
    "# dtype in array if not give : minimum type required to hold the objects in the sequence.\r\n",
    "# را اگر به آرایه ندهیم، به صورت خودکار بهترین حالت رو انتخاب میکنه dtype\r\n",
    "\r\n",
    "x = np.array([1.1, 2.1, 3.1])\r\n",
    "\r\n",
    "print(x)\r\n",
    "\r\n",
    "#see data type / دیدن نوع داده ای\r\n",
    "print(x.dtype)\r\n",
    "\r\n",
    "#change data type / تغییر نوع داده\r\n",
    "x = x.astype('i')\r\n",
    "x = x.astype(int)\r\n",
    "print(x)\r\n",
    "print(x.dtype)\r\n",
    "\r\n",
    "\r\n",
    "\r\n",
    "#change int type to bool / تبدیل تایپ عددی به بولین\r\n",
    "# ==0 -> False   =!0 -> True\r\n",
    "x = np.array([1, 0, -4, 10], dtype=bool)\r\n",
    "print(x)\r\n",
    "\r\n",
    "\r\n",
    "\r\n",
    "\r\n",
    "\r\n",
    "\r\n",
    "## x = np.array(['a', '2', '3'], dtype='i')  # --> error  (can't convert string to int)\r\n",
    "\r\n"
   ]
  },
  {
   "cell_type": "code",
   "execution_count": 260,
   "metadata": {},
   "outputs": [
    {
     "name": "stdout",
     "output_type": "stream",
     "text": [
      "7\n",
      "8\n",
      "[[[  5   0   3]\n",
      "  [100 100 100]\n",
      "  [  3   5   2]]\n",
      "\n",
      " [[  4   7   6]\n",
      "  [  8   8   1]\n",
      "  [  6   7   7]]\n",
      "\n",
      " [[  8   1   5]\n",
      "  [  9   8   9]\n",
      "  [  4   3   0]]]\n"
     ]
    }
   ],
   "source": [
    "# دسترسی به جایگاه\n",
    "# Access to the position\n",
    "\n",
    "np.random.seed(0)\n",
    "\n",
    "x = np.random.randint(10, size=(3,3,3))\n",
    "\n",
    "#fist array from 3 array - secend row - secend column \n",
    "#اولین آرایه - سطر دوم - ستون دوم\n",
    "print(x[0,1,1])  # [0,1,1] = [0][1][1]\n",
    "\n",
    "#change vlaue \n",
    "# تغییر مقدار\n",
    "x[0,1,1] = 8\n",
    "\n",
    "# change all secend raw value of first array\n",
    "# تغییر کل مقادیر سطر دوم از آرایه اول\n",
    "x[0,1,:] = 100\n"
   ]
  },
  {
   "cell_type": "markdown",
   "metadata": {},
   "source": [
    "*نکته*\n",
    "<br>\n",
    "اگر تایپ آرایه ما، عدد صحیح باشه و ما یک مقدارش رو عدد اعشاری کنیم\n",
    "آرایه نمیتواند، عدد اعشاری رو قبول کند، در نتیجه فقط قسمت صحیح گرفته میشود\n",
    "<br>\n",
    "<br>\n",
    "*point*\n",
    "<br>\n",
    "If our array is type is like \"int32\", if we set a value to a float number, The array cannot accept a float number, so only the integer is taken"
   ]
  },
  {
   "cell_type": "code",
   "execution_count": null,
   "metadata": {},
   "outputs": [],
   "source": [
    "# برش دادن\n",
    "# slicing\n",
    "\n",
    "np.random.seed(0)\n",
    "\n",
    "x = np.random.randint(25, size=(8,4))\n",
    "\n",
    "# select first raw\n",
    "print(x[0])  # [0, :]\n",
    "\n",
    "# select first column\n",
    "print(x[:,0])\n",
    "\n",
    "\n",
    "# [:10]  -> index 0, 1,...,9  (10 -1)\n",
    "\n",
    "# 2 ray and 2 column / دو سطر و سه ستون\n",
    "print(x[:2, :3])\n",
    "\n",
    "# سه سطر و سه ستون با فاصله یکی در میان\n",
    "# 3raw & 3column & decussate\n",
    "print(x[:3, :3:2])\n",
    "\n",
    "# برعکس کردن همه ی آرایه\n",
    "# reverse all array\n",
    "print(x[::-1, ::-1])\n",
    "\n",
    "\n"
   ]
  },
  {
   "cell_type": "code",
   "execution_count": 263,
   "metadata": {},
   "outputs": [
    {
     "name": "stdout",
     "output_type": "stream",
     "text": [
      "[3 3 3 3]\n",
      "[1 1 2 2 3 3 4 4]\n",
      "[[1 1 1 2 2 2]\n",
      " [3 3 3 4 4 4]]\n",
      "[[1 2]\n",
      " [3 4]\n",
      " [3 4]]\n"
     ]
    }
   ],
   "source": [
    "# تولید عدد و آرایه تکراری\n",
    "# Generate a rapeat number and array\n",
    "\n",
    "# repeat 3 for 4 times / سه رو 4 بار تکرار کن\n",
    "print(np.repeat(3, 4))\n",
    "\n",
    "x = np.array([[1,2],[3,4]])\n",
    "print(np.repeat(x, 2, axis=None))\n",
    "\n",
    "\n",
    "print(np.repeat(x, 3, axis=1))\n",
    "\n",
    "\n",
    "print(np.repeat(x, [1, 2], axis=0))\n"
   ]
  },
  {
   "cell_type": "code",
   "execution_count": null,
   "metadata": {},
   "outputs": [],
   "source": [
    "# انتخاب شرطی\n",
    "# Conditional selection\n",
    "\n",
    "# np.random.seed(0)\n",
    "\n",
    "x = np.random.randint(1,9, size= 10)\n",
    "y = np.random.randint(0,2, size= 10)\n",
    "\n",
    "print(x)\n",
    "print(y)\n",
    "\n",
    "# یشان برابر با 1 باشد y که x انتخاب مقدادیر  \n",
    "# select all \"x\" values that \"y\" equal to 1 (y == 1)\n",
    "print(x[y==1])\n"
   ]
  },
  {
   "cell_type": "code",
   "execution_count": null,
   "metadata": {},
   "outputs": [],
   "source": [
    "# تغییر اندازه \n",
    "# reshape\n",
    "\n",
    "x = np.random.randint(10, size=(4,5))\n",
    "\n",
    "print('\\n first : \\n' , x)\n",
    "\n",
    "# یک بعدی کردن\n",
    "# Transfer to one dimensional\n",
    "print(x.reshape(20,))\n",
    "print(x.reshape(x.size,))\n",
    "\n",
    "x = x.reshape(x.size,)\n",
    "\n",
    "# دو بعدی کردی\n",
    "# Transfer to two dimensional\n",
    "print(x.reshape(2, 10))\n",
    "print(x.reshape(20, 1))\n",
    "\n",
    "# سه بعدی کردی\n",
    "# Transfer to three dimensional\n",
    "print(x.reshape(2, 2, 5))\n"
   ]
  },
  {
   "cell_type": "code",
   "execution_count": null,
   "metadata": {},
   "outputs": [],
   "source": [
    "# ایجاد عدد رندم بین دو بازه\n",
    "# generate a random number between two numbers\n",
    "\n",
    "\n",
    "# بین 1 تا 10 صد عدد بساز\n",
    "# genatate 100 number bitween 1 and 10\n",
    "x = np.linspace(1,10, 100)\n",
    "print(x)\n",
    "\n",
    "\n",
    "\n"
   ]
  },
  {
   "cell_type": "code",
   "execution_count": null,
   "metadata": {},
   "outputs": [],
   "source": [
    "# ایجاد یک توالی و رنج\n",
    "# Create a sequence of numbers \n",
    "\n",
    "x = np.arange(6)   # 0 to 5\n",
    "print(x)\n"
   ]
  },
  {
   "cell_type": "code",
   "execution_count": null,
   "metadata": {},
   "outputs": [],
   "source": [
    "# ادغام دو آرایه\n",
    "# concatenate\n",
    "\n",
    "\n",
    "# concatenate\n",
    "x = np.array([1,2,3])\n",
    "y = np.array([4,5,6])\n",
    "\n",
    "print(np.concatenate([x,y]))\n",
    "\n",
    "\n",
    "# vstack\n",
    "x = np.array(\n",
    "    [[9, 8, 7],\n",
    "    [6, 5, 4]]\n",
    "    )\n",
    "\n",
    "y = np.array([3, 2, 1])\n",
    "\n",
    "#vstack\n",
    "print(np.vstack([x,y]))\n",
    "\n",
    "\n",
    "x = np.array((1, 2, 3))\n",
    "y = np.array((4, 5, 6))\n",
    "\n",
    "#hstack\n",
    "print(np.hstack([x,y]))\n",
    "\n",
    "a = np.array([[1],[2],[3]])\n",
    "b = np.array([[4],[5],[6]])\n",
    "\n",
    "#hstack\n",
    "print(np.hstack([a,b]))\n"
   ]
  },
  {
   "cell_type": "code",
   "execution_count": null,
   "metadata": {},
   "outputs": [],
   "source": [
    "# جداسازی یا دسته بندی\n",
    "# split\n",
    "\n",
    "x = np.arange(8.0)\n",
    "\n",
    "\n",
    "#split\n",
    "print(np.split(x, 2))   # Must be divisible by the len of arrays  / باید بر تعداد مقادیر آرایه بخش پذیر باشد\n",
    "## print(np.split(x, 3))  # --> error\n",
    "\n",
    "print(np.split(x, [2, 3]))\n",
    "#ary[:2]    # 0 to 2-1 = 1  -> index 0,1 \n",
    "#ary[2:3]   # 2 to 3-1 = 2  -> index 2\n",
    "#ary[3:]    # 3 to end      -> index 3,4,5,...\n",
    "\n",
    "print(np.split(x, [4, 6]))\n",
    "#ary[:4]    # 0 to 4-1 = 3  -> index 0,1,2,3 \n",
    "#ary[4:6]   # 4 to 6-1 = 5  -> index 4,5\n",
    "#ary[6:]    # 6 to end      -> index 6,7\n",
    "\n",
    "np.split(x, [3, 5, 6, 10])\n",
    "#ary[:3]    # 0 to 3-1 = 2  -> index 0,1,2 \n",
    "#ary[3:5]   # 3 to 5-1 = 4  -> index 3,4\n",
    "#ary[5:6]   # 5 to 6-1 = 5  -> index 5\n",
    "#ary[6:10]  # 6 to 10-1 = 9 -> index 6,7, []\n",
    "\n",
    "\n",
    "#hsplit\n",
    "#horizontally / افقی\n",
    "\n",
    "#2D\n",
    "x = np.arange(16.0).reshape(4, 4)\n",
    "a, b = np.hsplit(x, 2)\n",
    "\n",
    "#3D\n",
    "x = np.arange(8.0).reshape(2, 2, 2)\n",
    "a, b= np.hsplit(x, 2)\n",
    "\n",
    "\n",
    "\n",
    "#vsplit\n",
    "# vertically  / عمودی\n",
    "\n",
    "#2D\n",
    "x = np.arange(16.0).reshape(4, 4)\n",
    "a, b = np.vsplit(x, 2)\n",
    "a, b, c = np.vsplit(x, np.array([3, 6]))\n",
    "\n",
    "#3d\n",
    "x = np.arange(8.0).reshape(2, 2, 2)\n",
    "a, b = np.vsplit(x, 2)\n",
    "\n",
    "\n",
    "\n",
    "\n",
    "# dsplit\n",
    "# depth  / عمقی\n",
    "x = np.arange(16.0).reshape(2, 2, 4)\n",
    "a, b = np.dsplit(x, 2)\n",
    "a, b, c = np.dsplit(x, np.array([3, 6]))\n"
   ]
  },
  {
   "cell_type": "code",
   "execution_count": 208,
   "metadata": {},
   "outputs": [
    {
     "name": "stdout",
     "output_type": "stream",
     "text": [
      "[[0.50831545 0.16684751 0.77905102 0.8649333 ]\n",
      " [0.41139672 0.13997259 0.03322239 0.98257496]\n",
      " [0.37329075 0.42007537 0.05058812 0.36549611]]\n",
      "[[ 9 10 27 45]\n",
      " [71 39 61 85]\n",
      " [97 44 34 34]]\n"
     ]
    }
   ],
   "source": [
    "# ساخت عدد تصادفی \n",
    "# grnerate random number \n",
    "\n",
    "# between 0 & 1\n",
    "x = np.random.random((3, 4))\n",
    "print(x)\n",
    "\n",
    "x = np.random.randint(0, 100, size=(3,4))\n",
    "print(x)\n",
    "\n"
   ]
  },
  {
   "cell_type": "code",
   "execution_count": 236,
   "metadata": {},
   "outputs": [
    {
     "name": "stdout",
     "output_type": "stream",
     "text": [
      "[[44 47 64 67]\n",
      " [67  9 83 21]\n",
      " [36 87 70 88]]\n",
      "9\n",
      "[44  9 36]\n",
      "[36  9 64 21]\n",
      "5\n",
      "[0 1 0]\n",
      "[2 1 0 1]\n"
     ]
    }
   ],
   "source": [
    "# بدست آوردن کوچک ترین یا بزرگ ترین مقدار\n",
    "# find min or max value\n",
    "\n",
    "np.random.seed(0)\n",
    "\n",
    "x = np.random.randint(100 , size=(3, 4))\n",
    "print(x)\n",
    "\n",
    "# minimux in all of the array / کوچک ترین آیتم در کل آرایه\n",
    "print(x.min())\n",
    "\n",
    "# minimum in the each raw  / کوچک ترین در هر سطر\n",
    "print(x.min(axis=1))     \n",
    "\n",
    "#minimum in the each column / کوچک ترین در هر ستون\n",
    "print(x.min(axis=0))\n",
    "\n",
    "\n",
    "\n",
    "# index of the minimum in all / ایندکس کوچک ترین در کل آرایه\n",
    "print(np.argmin(x))\n",
    "\n",
    "# index of the minimum in each raw / ایندکس کوچک ترین در هر سطر\n",
    "print(np.argmin(x, axis=1))\n",
    "\n",
    "# index of the minimum in each column / ایندکس کوچک ترین در هر ستون\n",
    "print(np.argmin(x, axis=0))\n",
    "\n",
    "\n",
    "\n"
   ]
  },
  {
   "cell_type": "code",
   "execution_count": 254,
   "metadata": {},
   "outputs": [
    {
     "name": "stdout",
     "output_type": "stream",
     "text": [
      "0\n",
      "1\n",
      "2\n",
      "3\n",
      "4\n",
      "10\n",
      "[[[[[[[[[[1 2 3]]]]]]]]]]\n"
     ]
    }
   ],
   "source": [
    "# انواع ابعاد آرایه\n",
    "# Types of array dimensions\n",
    "\n",
    "a = np.array(123)\n",
    "b = np.array([1,2,3])  # ((1,2,3)) or ([1,2,3])\n",
    "c = np.array([[1, 2, 3], [4, 5, 6]])\n",
    "d = np.array([[[1, 2, 3], [4, 5, 6]], [[1, 2, 3], [4, 5, 6]]])\n",
    "e = np.array( [[[[1,2,3]]]])\n",
    "f = np.array([1,2,3], ndmin=10)  # [[[[[[[[[[1 2 3]]]]]]]]]]\n",
    "\n",
    "print(a.ndim)\n",
    "print(b.ndim)\n",
    "print(c.ndim)\n",
    "print(d.ndim)\n",
    "print(e.ndim)\n",
    "print(f.ndim)\n",
    "\n",
    "\n",
    "\n",
    "\n",
    "\n",
    "\n"
   ]
  },
  {
   "cell_type": "code",
   "execution_count": 255,
   "metadata": {},
   "outputs": [
    {
     "name": "stdout",
     "output_type": "stream",
     "text": [
      "5th element on 2nd dim:  10\n"
     ]
    }
   ],
   "source": []
  },
  {
   "cell_type": "code",
   "execution_count": null,
   "metadata": {},
   "outputs": [],
   "source": []
  }
 ],
 "metadata": {
  "interpreter": {
   "hash": "770021e68aae5e5bc49f7a3b6edb919a4a251fef8e7696fd47196c25263b13c4"
  },
  "kernelspec": {
   "display_name": "Python 3.8.5 64-bit ('base': conda)",
   "name": "python3"
  },
  "language_info": {
   "name": "python",
   "version": ""
  },
  "orig_nbformat": 4
 },
 "nbformat": 4,
 "nbformat_minor": 2
}