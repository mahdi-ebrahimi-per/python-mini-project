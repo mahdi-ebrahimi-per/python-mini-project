{
 "metadata": {
  "language_info": {
   "codemirror_mode": {
    "name": "ipython",
    "version": 3
   },
   "file_extension": ".py",
   "mimetype": "text/x-python",
   "name": "python",
   "nbconvert_exporter": "python",
   "pygments_lexer": "ipython3",
   "version": "3.8.5"
  },
  "orig_nbformat": 4,
  "kernelspec": {
   "name": "python3",
   "display_name": "Python 3.8.5 64-bit ('base': conda)"
  },
  "interpreter": {
   "hash": "770021e68aae5e5bc49f7a3b6edb919a4a251fef8e7696fd47196c25263b13c4"
  }
 },
 "nbformat": 4,
 "nbformat_minor": 2,
 "cells": [
  {
   "cell_type": "code",
   "execution_count": 191,
   "metadata": {},
   "outputs": [],
   "source": [
    "import numpy as np\n",
    "\n",
    "np.random.seed(0)   "
   ]
  },
  {
   "cell_type": "code",
   "execution_count": null,
   "metadata": {},
   "outputs": [],
   "source": [
    "# آرایه یک بعدی با 4 عنصر رندوم\n",
    "# 1d array with 4 random value\n",
    "\n",
    "x = np.random.randint(10, size=4)      # 0 to 9\n",
    "x = np.random.randint(0,10 , size=4)   # 0 to 9\n",
    "\n",
    "\n",
    "print(x)\n"
   ]
  },
  {
   "cell_type": "code",
   "execution_count": null,
   "metadata": {},
   "outputs": [],
   "source": [
    "# آرایه دو بعدی 2 در 4 با عناصر رندوم\n",
    "# 2d 2 in 4 array with random values\n",
    "\n",
    "x = np.random.randint(10, size= (2,4) )\n",
    "\n",
    "print(x)\n"
   ]
  },
  {
   "cell_type": "code",
   "execution_count": null,
   "metadata": {},
   "outputs": [],
   "source": [
    "# آرایه سه بعدی، سه تا 2 در 4 با عناصر رندوم\n",
    "# 2d 3 * 2 in 4 array with random values\n",
    "\n",
    "x = np.random.randint(10, size= (3,2,4) )\n",
    "\n",
    "print(x)\n"
   ]
  },
  {
   "cell_type": "code",
   "execution_count": null,
   "metadata": {},
   "outputs": [],
   "source": [
    "# فهمیدن مشخصات مربوط به یک آرایه\n",
    "# find imformation about array\n",
    "\n",
    "x = np.random.randint(10, size= (3,4,4) )\n",
    "\n",
    "\n",
    "# بعد\n",
    "# dimension\n",
    "print(x.ndim)\n",
    "\n",
    "\n",
    "# چند در چند بودن\n",
    "#shape\n",
    "print(x.shape)\n",
    "\n",
    "\n",
    "# تعداد کل مقدادیر که حاصل ضرب ابعاد در هم است\n",
    "# number of all values equal to multiply of dimensions\n",
    "# 3 * 4 * 4 = 48\n",
    "print(x.size)\n",
    "\n",
    "\n",
    "#جحم\n",
    "#size\n",
    "print(x.itemsize, \"Bytes\")\n",
    "print(x.nbytes, \"Bytes\")"
   ]
  },
  {
   "cell_type": "code",
   "execution_count": 260,
   "metadata": {},
   "outputs": [
    {
     "output_type": "stream",
     "name": "stdout",
     "text": [
      "7\n8\n[[[  5   0   3]\n  [100 100 100]\n  [  3   5   2]]\n\n [[  4   7   6]\n  [  8   8   1]\n  [  6   7   7]]\n\n [[  8   1   5]\n  [  9   8   9]\n  [  4   3   0]]]\n"
     ]
    }
   ],
   "source": [
    "# دسترسی به جایگاه\n",
    "# Access to the position\n",
    "\n",
    "np.random.seed(0)\n",
    "\n",
    "x = np.random.randint(10, size=(3,3,3))\n",
    "\n",
    "#fist array from 3 array - secend row - secend column \n",
    "#اولین آرایه - سطر دوم - ستون دوم\n",
    "print(x[0,1,1])  # [0,1,1] = [0][1][1]\n",
    "\n",
    "#change vlaue \n",
    "# تغییر مقدار\n",
    "x[0,1,1] = 8\n",
    "\n",
    "# change all secend raw value of first array\n",
    "# تغییر کل مقادیر سطر دوم از آرایه اول\n",
    "x[0,1,:] = 100\n"
   ]
  },
  {
   "source": [
    "*نکته*\n",
    "<br>\n",
    "اگر تایپ آرایه ما، عدد صحیح باشه و ما یک مقدارش رو عدد اعشاری کنیم\n",
    "آرایه نمیتواند، عدد اعشاری رو قبول کند، در نتیجه فقط قسمت صحیح گرفته میشود\n",
    "<br>\n",
    "<br>\n",
    "*point*\n",
    "<br>\n",
    "If our array is type is like \"int32\", if we set a value to a float number, The array cannot accept a float number, so only the integer is taken"
   ],
   "cell_type": "markdown",
   "metadata": {}
  },
  {
   "cell_type": "code",
   "execution_count": null,
   "metadata": {},
   "outputs": [],
   "source": [
    "# برش دادن\n",
    "# slicing\n",
    "\n",
    "np.random.seed(0)\n",
    "\n",
    "x = np.random.randint(25, size=(8,4))\n",
    "\n",
    "# select first raw\n",
    "print(x[0])  # [0, :]\n",
    "\n",
    "# select first column\n",
    "print(x[:,0])\n",
    "\n",
    "\n",
    "# [:10]  -> index 0, 1,...,9  (10 -1)\n",
    "\n",
    "# 2 ray and 2 column / دو سطر و سه ستون\n",
    "print(x[:2, :3])\n",
    "\n",
    "# سه سطر و سه ستون با فاصله یکی در میان\n",
    "# 3raw & 3column & decussate\n",
    "print(x[:3, :3:2])\n",
    "\n",
    "# برعکس کردن همه ی آرایه\n",
    "# reverse all array\n",
    "print(x[::-1, ::-1])\n",
    "\n",
    "\n"
   ]
  },
  {
   "cell_type": "code",
   "execution_count": 263,
   "metadata": {},
   "outputs": [
    {
     "output_type": "stream",
     "name": "stdout",
     "text": [
      "[3 3 3 3]\n[1 1 2 2 3 3 4 4]\n[[1 1 1 2 2 2]\n [3 3 3 4 4 4]]\n[[1 2]\n [3 4]\n [3 4]]\n"
     ]
    }
   ],
   "source": [
    "# تولید عدد و آرایه تکراری\n",
    "# Generate a rapeat number and array\n",
    "\n",
    "# repeat 3 for 4 times / سه رو 4 بار تکرار کن\n",
    "print(np.repeat(3, 4))\n",
    "\n",
    "x = np.array([[1,2],[3,4]])\n",
    "print(np.repeat(x, 2, axis=None))\n",
    "\n",
    "\n",
    "print(np.repeat(x, 3, axis=1))\n",
    "\n",
    "\n",
    "print(np.repeat(x, [1, 2], axis=0))\n"
   ]
  },
  {
   "cell_type": "code",
   "execution_count": null,
   "metadata": {},
   "outputs": [],
   "source": [
    "# انتخاب شرطی\n",
    "# Conditional selection\n",
    "\n",
    "# np.random.seed(0)\n",
    "\n",
    "x = np.random.randint(1,9, size= 10)\n",
    "y = np.random.randint(0,2, size= 10)\n",
    "\n",
    "print(x)\n",
    "print(y)\n",
    "\n",
    "# یشان برابر با 1 باشد y که x انتخاب مقدادیر  \n",
    "# select all \"x\" values that \"y\" equal to 1 (y == 1)\n",
    "print(x[y==1])\n"
   ]
  },
  {
   "cell_type": "code",
   "execution_count": null,
   "metadata": {},
   "outputs": [],
   "source": [
    "# تغییر اندازه \n",
    "# reshape\n",
    "\n",
    "x = np.random.randint(10, size=(4,5))\n",
    "\n",
    "print('\\n first : \\n' , x)\n",
    "\n",
    "# یک بعدی کردن\n",
    "# Transfer to one dimensional\n",
    "print(x.reshape(20,))\n",
    "print(x.reshape(x.size,))\n",
    "\n",
    "x = x.reshape(x.size,)\n",
    "\n",
    "# دو بعدی کردی\n",
    "# Transfer to two dimensional\n",
    "print(x.reshape(2, 10))\n",
    "print(x.reshape(20, 1))\n",
    "\n",
    "# سه بعدی کردی\n",
    "# Transfer to three dimensional\n",
    "print(x.reshape(2, 2, 5))\n"
   ]
  },
  {
   "cell_type": "code",
   "execution_count": null,
   "metadata": {},
   "outputs": [],
   "source": [
    "# ایجاد عدد رندم بین دو بازه\n",
    "# generate a random number between two numbers\n",
    "\n",
    "\n",
    "# بین 1 تا 10 صد عدد بساز\n",
    "# genatate 100 number bitween 1 and 10\n",
    "x = np.linspace(1,10, 100)\n",
    "print(x)\n",
    "\n",
    "\n",
    "\n"
   ]
  },
  {
   "cell_type": "code",
   "execution_count": null,
   "metadata": {},
   "outputs": [],
   "source": [
    "# ایجاد یک توالی و رنج\n",
    "# Create a sequence of numbers \n",
    "\n",
    "x = np.arange(6)   # 0 to 5\n",
    "print(x)\n"
   ]
  },
  {
   "cell_type": "code",
   "execution_count": null,
   "metadata": {},
   "outputs": [],
   "source": [
    "# ادغام دو آرایه\n",
    "# concatenate\n",
    "\n",
    "\n",
    "# concatenate\n",
    "x = np.array([1,2,3])\n",
    "y = np.array([4,5,6])\n",
    "\n",
    "print(np.concatenate([x,y]))\n",
    "\n",
    "\n",
    "# vstack\n",
    "x = np.array(\n",
    "    [[9, 8, 7],\n",
    "    [6, 5, 4]]\n",
    "    )\n",
    "\n",
    "y = np.array([3, 2, 1])\n",
    "\n",
    "#vstack\n",
    "print(np.vstack([x,y]))\n",
    "\n",
    "\n",
    "x = np.array((1, 2, 3))\n",
    "y = np.array((4, 5, 6))\n",
    "\n",
    "#hstack\n",
    "print(np.hstack([x,y]))\n",
    "\n",
    "a = np.array([[1],[2],[3]])\n",
    "b = np.array([[4],[5],[6]])\n",
    "\n",
    "#hstack\n",
    "print(np.hstack([a,b]))\n"
   ]
  },
  {
   "cell_type": "code",
   "execution_count": null,
   "metadata": {},
   "outputs": [],
   "source": [
    "# جداسازی یا دسته بندی\n",
    "# split\n",
    "\n",
    "x = np.arange(8.0)\n",
    "\n",
    "\n",
    "#split\n",
    "print(np.split(x, 2))   # Must be divisible by the len of arrays  / باید بر تعداد مقادیر آرایه بخش پذیر باشد\n",
    "## print(np.split(x, 3))  # --> error\n",
    "\n",
    "print(np.split(x, [2, 3]))\n",
    "#ary[:2]    # 0 to 2-1 = 1  -> index 0,1 \n",
    "#ary[2:3]   # 2 to 3-1 = 2  -> index 2\n",
    "#ary[3:]    # 3 to end      -> index 3,4,5,...\n",
    "\n",
    "print(np.split(x, [4, 6]))\n",
    "#ary[:4]    # 0 to 4-1 = 3  -> index 0,1,2,3 \n",
    "#ary[4:6]   # 4 to 6-1 = 5  -> index 4,5\n",
    "#ary[6:]    # 6 to end      -> index 6,7\n",
    "\n",
    "np.split(x, [3, 5, 6, 10])\n",
    "#ary[:3]    # 0 to 3-1 = 2  -> index 0,1,2 \n",
    "#ary[3:5]   # 3 to 5-1 = 4  -> index 3,4\n",
    "#ary[5:6]   # 5 to 6-1 = 5  -> index 5\n",
    "#ary[6:10]  # 6 to 10-1 = 9 -> index 6,7, []\n",
    "\n",
    "\n",
    "#hsplit\n",
    "#horizontally / افقی\n",
    "\n",
    "#2D\n",
    "x = np.arange(16.0).reshape(4, 4)\n",
    "a, b = np.hsplit(x, 2)\n",
    "\n",
    "#3D\n",
    "x = np.arange(8.0).reshape(2, 2, 2)\n",
    "a, b= np.hsplit(x, 2)\n",
    "\n",
    "\n",
    "\n",
    "#vsplit\n",
    "# vertically  / عمودی\n",
    "\n",
    "#2D\n",
    "x = np.arange(16.0).reshape(4, 4)\n",
    "a, b = np.vsplit(x, 2)\n",
    "a, b, c = np.vsplit(x, np.array([3, 6]))\n",
    "\n",
    "#3d\n",
    "x = np.arange(8.0).reshape(2, 2, 2)\n",
    "a, b = np.vsplit(x, 2)\n",
    "\n",
    "\n",
    "\n",
    "\n",
    "# dsplit\n",
    "# depth  / عمقی\n",
    "x = np.arange(16.0).reshape(2, 2, 4)\n",
    "a, b = np.dsplit(x, 2)\n",
    "a, b, c = np.dsplit(x, np.array([3, 6]))\n"
   ]
  },
  {
   "cell_type": "code",
   "execution_count": 208,
   "metadata": {},
   "outputs": [
    {
     "output_type": "stream",
     "name": "stdout",
     "text": [
      "[[0.50831545 0.16684751 0.77905102 0.8649333 ]\n [0.41139672 0.13997259 0.03322239 0.98257496]\n [0.37329075 0.42007537 0.05058812 0.36549611]]\n[[ 9 10 27 45]\n [71 39 61 85]\n [97 44 34 34]]\n"
     ]
    }
   ],
   "source": [
    "# ساخت عدد تصادفی \n",
    "# grnerate random number \n",
    "\n",
    "# between 0 & 1\n",
    "x = np.random.random((3, 4))\n",
    "print(x)\n",
    "\n",
    "x = np.random.randint(0, 100, size=(3,4))\n",
    "print(x)\n",
    "\n"
   ]
  },
  {
   "cell_type": "code",
   "execution_count": 236,
   "metadata": {},
   "outputs": [
    {
     "output_type": "stream",
     "name": "stdout",
     "text": [
      "[[44 47 64 67]\n [67  9 83 21]\n [36 87 70 88]]\n9\n[44  9 36]\n[36  9 64 21]\n5\n[0 1 0]\n[2 1 0 1]\n"
     ]
    }
   ],
   "source": [
    "# بدست آوردن کوچک ترین یا بزرگ ترین مقدار\n",
    "# find min or max value\n",
    "\n",
    "np.random.seed(0)\n",
    "\n",
    "x = np.random.randint(100 , size=(3, 4))\n",
    "print(x)\n",
    "\n",
    "# minimux in all of the array / کوچک ترین آیتم در کل آرایه\n",
    "print(x.min())\n",
    "\n",
    "# minimum in the each raw  / کوچک ترین در هر سطر\n",
    "print(x.min(axis=1))     \n",
    "\n",
    "#minimum in the each column / کوچک ترین در هر ستون\n",
    "print(x.min(axis=0))\n",
    "\n",
    "\n",
    "\n",
    "# index of the minimum in all / ایندکس کوچک ترین در کل آرایه\n",
    "print(np.argmin(x))\n",
    "\n",
    "# index of the minimum in each raw / ایندکس کوچک ترین در هر سطر\n",
    "print(np.argmin(x, axis=1))\n",
    "\n",
    "# index of the minimum in each column / ایندکس کوچک ترین در هر ستون\n",
    "print(np.argmin(x, axis=0))\n",
    "\n",
    "\n",
    "\n"
   ]
  },
  {
   "cell_type": "code",
   "execution_count": 254,
   "metadata": {},
   "outputs": [
    {
     "output_type": "stream",
     "name": "stdout",
     "text": [
      "0\n1\n2\n3\n4\n10\n[[[[[[[[[[1 2 3]]]]]]]]]]\n"
     ]
    }
   ],
   "source": [
    "# انواع ابعاد آرایه\n",
    "# Types of array dimensions\n",
    "\n",
    "a = np.array(123)\n",
    "b = np.array([1,2,3])  # ((1,2,3)) or ([1,2,3])\n",
    "c = np.array([[1, 2, 3], [4, 5, 6]])\n",
    "d = np.array([[[1, 2, 3], [4, 5, 6]], [[1, 2, 3], [4, 5, 6]]])\n",
    "e = np.array( [[[[1,2,3]]]])\n",
    "f = np.array([1,2,3], ndmin=10)  # [[[[[[[[[[1 2 3]]]]]]]]]]\n",
    "\n",
    "print(a.ndim)\n",
    "print(b.ndim)\n",
    "print(c.ndim)\n",
    "print(d.ndim)\n",
    "print(e.ndim)\n",
    "print(f.ndim)\n",
    "\n",
    "\n",
    "\n",
    "\n",
    "\n",
    "\n"
   ]
  },
  {
   "cell_type": "code",
   "execution_count": 255,
   "metadata": {},
   "outputs": [
    {
     "output_type": "stream",
     "name": "stdout",
     "text": [
      "5th element on 2nd dim:  10\n"
     ]
    }
   ],
   "source": []
  },
  {
   "cell_type": "code",
   "execution_count": null,
   "metadata": {},
   "outputs": [],
   "source": []
  }
 ]
}