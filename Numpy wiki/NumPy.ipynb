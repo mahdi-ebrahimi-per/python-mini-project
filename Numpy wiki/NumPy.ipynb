{
 "cells": [
  {
   "cell_type": "code",
   "execution_count": 2,
   "source": [
    "import numpy as np\r\n",
    "\r\n",
    "np.random.seed(0)   "
   ],
   "outputs": [],
   "metadata": {}
  },
  {
   "cell_type": "code",
   "execution_count": null,
   "source": [
    "# آرایه یک بعدی با 4 عنصر رندوم\r\n",
    "# 1d array with 4 random value\r\n",
    "\r\n",
    "x = np.random.randint(10, size=4)      # 0 to 9\r\n",
    "x = np.random.randint(0,10 , size=4)   # 0 to 9\r\n",
    "\r\n",
    "\r\n",
    "print(x)\r\n"
   ],
   "outputs": [],
   "metadata": {}
  },
  {
   "cell_type": "code",
   "execution_count": null,
   "source": [
    "# آرایه دو بعدی 2 در 4 با عناصر رندوم\r\n",
    "# 2d 2 in 4 array with random values\r\n",
    "\r\n",
    "x = np.random.randint(10, size= (2,4) )\r\n",
    "\r\n",
    "print(x)\r\n"
   ],
   "outputs": [],
   "metadata": {}
  },
  {
   "cell_type": "code",
   "execution_count": null,
   "source": [
    "# آرایه سه بعدی، سه تا 2 در 4 با عناصر رندوم\r\n",
    "# 2d 3 * 2 in 4 array with random values\r\n",
    "\r\n",
    "x = np.random.randint(10, size= (3,2,4) )\r\n",
    "\r\n",
    "print(x)\r\n"
   ],
   "outputs": [],
   "metadata": {}
  },
  {
   "cell_type": "code",
   "execution_count": null,
   "source": [
    "# فهمیدن مشخصات مربوط به یک آرایه\r\n",
    "# find imformation about array\r\n",
    "\r\n",
    "x = np.random.randint(10, size= (3,4,4) )\r\n",
    "\r\n",
    "\r\n",
    "# بعد\r\n",
    "# dimension\r\n",
    "print(x.ndim)\r\n",
    "\r\n",
    "\r\n",
    "# چند در چند بودن\r\n",
    "#shape\r\n",
    "print(x.shape)\r\n",
    "\r\n",
    "\r\n",
    "# تعداد کل مقدادیر که حاصل ضرب ابعاد در هم است\r\n",
    "# number of all values equal to multiply of dimensions\r\n",
    "# 3 * 4 * 4 = 48\r\n",
    "print(x.size)\r\n",
    "\r\n",
    "\r\n",
    "# پیدا کردن دیتا تایپ\r\n",
    "# find data type\r\n",
    "print(x.dtype)\r\n",
    "\r\n",
    "\r\n",
    "\r\n",
    "#جحم\r\n",
    "#size\r\n",
    "print(x.itemsize, \"Bytes\")\r\n",
    "print(x.nbytes, \"Bytes\")"
   ],
   "outputs": [],
   "metadata": {}
  },
  {
   "cell_type": "markdown",
   "source": [
    "***Data types***\r\n",
    "\r\n",
    "<pre>\r\n",
    "    i - integer\r\n",
    "    b - boolean\r\n",
    "    u - unsigned integer\r\n",
    "    f - float\r\n",
    "    c - complex float\r\n",
    "    m - timedelta\r\n",
    "    M - datetime\r\n",
    "    O - object\r\n",
    "    S - string\r\n",
    "    U - unicode string\r\n",
    "    V - fixed chunk of memory for other type ( void )\r\n",
    "\r\n",
    "\r\n",
    "'hello'  ->   U5\r\n",
    "'hello world'  ->   U11  \r\n",
    "array(['hello world', 'hello']).dtype   ->  U11\r\n",
    "\r\n",
    "i4  ->  intiger 4 byte\r\n",
    "U11 ->  unicode string 11 Byte\r\n",
    "\r\n",
    "i8 -> int64  -> 8 Byte  -> max 16 number\r\n",
    "i4 -> int32  -> 4 Byte  -> max 10 number\r\n",
    "i2 -> int16  -> 2 Byte  -> max 5 number\r\n",
    "i1 -> int8   -> 1 Byte  -> max 3 number \r\n",
    "                           for more number we must convert to O(object)\r\n",
    "\r\n",
    "\r\n",
    "</pre>"
   ],
   "metadata": {}
  },
  {
   "cell_type": "code",
   "execution_count": 14,
   "source": [
    "# دیتا تایپ ها یا انواع داده\r\n",
    "# data type\r\n",
    "\r\n",
    "# dtype in array if not give : minimum type required to hold the objects in the sequence.\r\n",
    "# را اگر به آرایه ندهیم، به صورت خودکار بهترین حالت رو انتخاب میکنه dtype\r\n",
    "\r\n",
    "x = np.array([1.1, 2.1, 3.1])\r\n",
    "\r\n",
    "print(x)\r\n",
    "\r\n",
    "#see data type / دیدن نوع داده ای\r\n",
    "print(x.dtype)\r\n",
    "\r\n",
    "#change data type / تغییر نوع داده\r\n",
    "x = x.astype('i')\r\n",
    "x = x.astype(int)\r\n",
    "print(x)\r\n",
    "print(x.dtype)\r\n",
    "\r\n",
    "\r\n",
    "\r\n",
    "#change int type to bool / تبدیل تایپ عددی به بولین\r\n",
    "# ==0 -> False   =!0 -> True\r\n",
    "x = np.array([1, 0, -4, 10], dtype=bool)\r\n",
    "print(x)\r\n",
    "\r\n",
    "\r\n",
    "\r\n",
    "\r\n",
    "\r\n",
    "\r\n",
    "## x = np.array(['a', '2', '3'], dtype='i')  # --> error  (can't convert string to int)\r\n",
    "\r\n"
   ],
   "outputs": [
    {
     "output_type": "stream",
     "name": "stdout",
     "text": [
      "[1.1 2.1 3.1]\n",
      "float64\n",
      "[1 2 3]\n",
      "int32\n",
      "[ True False  True  True]\n"
     ]
    }
   ],
   "metadata": {}
  },
  {
   "cell_type": "code",
   "execution_count": 260,
   "source": [
    "# دسترسی به جایگاه\r\n",
    "# Access to the position\r\n",
    "\r\n",
    "np.random.seed(0)\r\n",
    "\r\n",
    "x = np.random.randint(10, size=(3,3,3))\r\n",
    "\r\n",
    "#fist array from 3 array - secend row - secend column \r\n",
    "#اولین آرایه - سطر دوم - ستون دوم\r\n",
    "print(x[0,1,1])  # [0,1,1] = [0][1][1]\r\n",
    "\r\n",
    "#change vlaue \r\n",
    "# تغییر مقدار\r\n",
    "x[0,1,1] = 8\r\n",
    "\r\n",
    "# change all secend row value of first array\r\n",
    "# تغییر کل مقادیر سطر دوم از آرایه اول\r\n",
    "x[0,1,:] = 100\r\n"
   ],
   "outputs": [
    {
     "output_type": "stream",
     "name": "stdout",
     "text": [
      "7\n",
      "8\n",
      "[[[  5   0   3]\n",
      "  [100 100 100]\n",
      "  [  3   5   2]]\n",
      "\n",
      " [[  4   7   6]\n",
      "  [  8   8   1]\n",
      "  [  6   7   7]]\n",
      "\n",
      " [[  8   1   5]\n",
      "  [  9   8   9]\n",
      "  [  4   3   0]]]\n"
     ]
    }
   ],
   "metadata": {}
  },
  {
   "cell_type": "markdown",
   "source": [
    "*نکته*\n",
    "<br>\n",
    "اگر تایپ آرایه ما، عدد صحیح باشه و ما یک مقدارش رو عدد اعشاری کنیم\n",
    "آرایه نمیتواند، عدد اعشاری رو قبول کند، در نتیجه فقط قسمت صحیح گرفته میشود\n",
    "<br>\n",
    "<br>\n",
    "*point*\n",
    "<br>\n",
    "If our array is type is like \"int32\", if we set a value to a float number, The array cannot accept a float number, so only the integer is taken"
   ],
   "metadata": {}
  },
  {
   "cell_type": "code",
   "execution_count": null,
   "source": [
    "# برش دادن\r\n",
    "# slicing\r\n",
    "\r\n",
    "np.random.seed(0)\r\n",
    "\r\n",
    "x = np.random.randint(25, size=(8,4))\r\n",
    "\r\n",
    "# select first row\r\n",
    "print(x[0])  # [0, :]\r\n",
    "\r\n",
    "# select first column\r\n",
    "print(x[:,0])\r\n",
    "\r\n",
    "\r\n",
    "# [:10]  -> index 0, 1,...,9  (10 -1)\r\n",
    "\r\n",
    "# 2 ray and 2 column / دو سطر و سه ستون\r\n",
    "print(x[:2, :3])\r\n",
    "\r\n",
    "# سه سطر و سه ستون با فاصله یکی در میان\r\n",
    "# 3row & 3column & decussate\r\n",
    "print(x[:3, :3:2])\r\n",
    "\r\n",
    "# برعکس کردن همه ی آرایه\r\n",
    "# reverse all array\r\n",
    "print(x[::-1, ::-1])\r\n",
    "\r\n",
    "\r\n"
   ],
   "outputs": [],
   "metadata": {}
  },
  {
   "cell_type": "code",
   "execution_count": 263,
   "source": [
    "# تولید عدد و آرایه تکراری\r\n",
    "# Generate a rapeat number and array\r\n",
    "\r\n",
    "# repeat 3 for 4 times / سه رو 4 بار تکرار کن\r\n",
    "print(np.repeat(3, 4))\r\n",
    "\r\n",
    "x = np.array([[1,2],[3,4]])\r\n",
    "print(np.repeat(x, 2, axis=None))\r\n",
    "\r\n",
    "\r\n",
    "print(np.repeat(x, 3, axis=1))\r\n",
    "\r\n",
    "\r\n",
    "print(np.repeat(x, [1, 2], axis=0))\r\n"
   ],
   "outputs": [
    {
     "output_type": "stream",
     "name": "stdout",
     "text": [
      "[3 3 3 3]\n",
      "[1 1 2 2 3 3 4 4]\n",
      "[[1 1 1 2 2 2]\n",
      " [3 3 3 4 4 4]]\n",
      "[[1 2]\n",
      " [3 4]\n",
      " [3 4]]\n"
     ]
    }
   ],
   "metadata": {}
  },
  {
   "cell_type": "code",
   "execution_count": null,
   "source": [
    "# انتخاب شرطی\r\n",
    "# Conditional selection\r\n",
    "\r\n",
    "# np.random.seed(0)\r\n",
    "\r\n",
    "x = np.random.randint(1,9, size= 10)\r\n",
    "y = np.random.randint(0,2, size= 10)\r\n",
    "\r\n",
    "print(x)\r\n",
    "print(y)\r\n",
    "\r\n",
    "# یشان برابر با 1 باشد y که x انتخاب مقدادیر  \r\n",
    "# select all \"x\" values that \"y\" equal to 1 (y == 1)\r\n",
    "print(x[y==1])\r\n"
   ],
   "outputs": [],
   "metadata": {}
  },
  {
   "cell_type": "code",
   "execution_count": null,
   "source": [
    "# تغییر اندازه \r\n",
    "# reshape\r\n",
    "\r\n",
    "x = np.random.randint(10, size=(4,5))\r\n",
    "\r\n",
    "print('\\n first : \\n' , x)\r\n",
    "\r\n",
    "# یک بعدی کردن\r\n",
    "# Transfer to one dimensional\r\n",
    "print(x.reshape(20,))\r\n",
    "print(x.reshape(x.size,))\r\n",
    "\r\n",
    "x = x.reshape(x.size,)\r\n",
    "\r\n",
    "# دو بعدی کردی\r\n",
    "# Transfer to two dimensional\r\n",
    "print(x.reshape(2, 10))\r\n",
    "print(x.reshape(20, 1))\r\n",
    "\r\n",
    "# سه بعدی کردی\r\n",
    "# Transfer to three dimensional\r\n",
    "print(x.reshape(2, 2, 5))\r\n"
   ],
   "outputs": [],
   "metadata": {}
  },
  {
   "cell_type": "code",
   "execution_count": null,
   "source": [
    "# ایجاد عدد رندم بین دو بازه\r\n",
    "# generate a random number between two numbers\r\n",
    "\r\n",
    "\r\n",
    "# بین 1 تا 10 صد عدد بساز\r\n",
    "# genatate 100 number bitween 1 and 10\r\n",
    "x = np.linspace(1,10, 100)\r\n",
    "print(x)\r\n",
    "\r\n",
    "\r\n",
    "\r\n"
   ],
   "outputs": [],
   "metadata": {}
  },
  {
   "cell_type": "code",
   "execution_count": 6,
   "source": [
    "# ایجاد یک توالی و رنج\r\n",
    "# Create a sequence of numbers \r\n",
    "\r\n",
    "x = np.arange(6)   # 0 to 5\r\n",
    "print(x)\r\n",
    "\r\n",
    "\r\n",
    "x = np.arange(0, 10, 0.5)\r\n",
    "print(x)\r\n",
    "\r\n",
    "\r\n"
   ],
   "outputs": [
    {
     "output_type": "stream",
     "name": "stdout",
     "text": [
      "[0 1 2 3 4 5]\n",
      "[0.  0.5 1.  1.5 2.  2.5 3.  3.5 4.  4.5 5.  5.5 6.  6.5 7.  7.5 8.  8.5\n",
      " 9.  9.5]\n"
     ]
    }
   ],
   "metadata": {}
  },
  {
   "cell_type": "code",
   "execution_count": null,
   "source": [
    "# ادغام دو آرایه\r\n",
    "# concatenate\r\n",
    "\r\n",
    "\r\n",
    "# concatenate\r\n",
    "x = np.array([1,2,3])\r\n",
    "y = np.array([4,5,6])\r\n",
    "\r\n",
    "print(np.concatenate([x,y]))\r\n",
    "\r\n",
    "\r\n",
    "# vstack\r\n",
    "x = np.array(\r\n",
    "    [[9, 8, 7],\r\n",
    "    [6, 5, 4]]\r\n",
    "    )\r\n",
    "\r\n",
    "y = np.array([3, 2, 1])\r\n",
    "\r\n",
    "#vstack\r\n",
    "print(np.vstack([x,y]))\r\n",
    "\r\n",
    "\r\n",
    "x = np.array((1, 2, 3))\r\n",
    "y = np.array((4, 5, 6))\r\n",
    "\r\n",
    "#hstack\r\n",
    "print(np.hstack([x,y]))\r\n",
    "\r\n",
    "a = np.array([[1],[2],[3]])\r\n",
    "b = np.array([[4],[5],[6]])\r\n",
    "\r\n",
    "#hstack\r\n",
    "print(np.hstack([a,b]))\r\n"
   ],
   "outputs": [],
   "metadata": {}
  },
  {
   "cell_type": "code",
   "execution_count": 16,
   "source": [
    "# برعکس کردن بعد یا بر عکس کردن سطر و ستون\r\n",
    "# reverse rows and columns\r\n",
    "import numpy as np\r\n",
    "\r\n",
    "x1 = np.arange(1, 11)\r\n",
    "x2 = np.arange(11, 21)\r\n",
    "\r\n",
    "arr = np.array([x1, x2])\r\n",
    "print(arr.shape)\r\n",
    "print(arr)\r\n",
    "\r\n",
    "arr_reverse = arr.T\r\n",
    "print(arr_reverse.shape)\r\n",
    "print(arr_reverse)\r\n"
   ],
   "outputs": [
    {
     "output_type": "stream",
     "name": "stdout",
     "text": [
      "(2, 10)\n",
      "[[ 1  2  3  4  5  6  7  8  9 10]\n",
      " [11 12 13 14 15 16 17 18 19 20]]\n",
      "(10, 2)\n",
      "[[ 1 11]\n",
      " [ 2 12]\n",
      " [ 3 13]\n",
      " [ 4 14]\n",
      " [ 5 15]\n",
      " [ 6 16]\n",
      " [ 7 17]\n",
      " [ 8 18]\n",
      " [ 9 19]\n",
      " [10 20]]\n"
     ]
    }
   ],
   "metadata": {}
  },
  {
   "cell_type": "code",
   "execution_count": null,
   "source": [
    "# جداسازی یا دسته بندی\r\n",
    "# split\r\n",
    "\r\n",
    "x = np.arange(8.0)\r\n",
    "\r\n",
    "\r\n",
    "#split\r\n",
    "print(np.split(x, 2))   # Must be divisible by the len of arrays  / باید بر تعداد مقادیر آرایه بخش پذیر باشد\r\n",
    "## print(np.split(x, 3))  # --> error\r\n",
    "\r\n",
    "print(np.split(x, [2, 3]))\r\n",
    "#ary[:2]    # 0 to 2-1 = 1  -> index 0,1 \r\n",
    "#ary[2:3]   # 2 to 3-1 = 2  -> index 2\r\n",
    "#ary[3:]    # 3 to end      -> index 3,4,5,...\r\n",
    "\r\n",
    "print(np.split(x, [4, 6]))\r\n",
    "#ary[:4]    # 0 to 4-1 = 3  -> index 0,1,2,3 \r\n",
    "#ary[4:6]   # 4 to 6-1 = 5  -> index 4,5\r\n",
    "#ary[6:]    # 6 to end      -> index 6,7\r\n",
    "\r\n",
    "np.split(x, [3, 5, 6, 10])\r\n",
    "#ary[:3]    # 0 to 3-1 = 2  -> index 0,1,2 \r\n",
    "#ary[3:5]   # 3 to 5-1 = 4  -> index 3,4\r\n",
    "#ary[5:6]   # 5 to 6-1 = 5  -> index 5\r\n",
    "#ary[6:10]  # 6 to 10-1 = 9 -> index 6,7, []\r\n",
    "\r\n",
    "\r\n",
    "#hsplit\r\n",
    "#horizontally / افقی\r\n",
    "\r\n",
    "#2D\r\n",
    "x = np.arange(16.0).reshape(4, 4)\r\n",
    "a, b = np.hsplit(x, 2)\r\n",
    "\r\n",
    "#3D\r\n",
    "x = np.arange(8.0).reshape(2, 2, 2)\r\n",
    "a, b= np.hsplit(x, 2)\r\n",
    "\r\n",
    "\r\n",
    "\r\n",
    "#vsplit\r\n",
    "# vertically  / عمودی\r\n",
    "\r\n",
    "#2D\r\n",
    "x = np.arange(16.0).reshape(4, 4)\r\n",
    "a, b = np.vsplit(x, 2)\r\n",
    "a, b, c = np.vsplit(x, np.array([3, 6]))\r\n",
    "\r\n",
    "#3d\r\n",
    "x = np.arange(8.0).reshape(2, 2, 2)\r\n",
    "a, b = np.vsplit(x, 2)\r\n",
    "\r\n",
    "\r\n",
    "\r\n",
    "\r\n",
    "# dsplit\r\n",
    "# depth  / عمقی\r\n",
    "x = np.arange(16.0).reshape(2, 2, 4)\r\n",
    "a, b = np.dsplit(x, 2)\r\n",
    "a, b, c = np.dsplit(x, np.array([3, 6]))\r\n"
   ],
   "outputs": [],
   "metadata": {}
  },
  {
   "cell_type": "code",
   "execution_count": 208,
   "source": [
    "# ساخت عدد تصادفی \n",
    "# grnerate random number \n",
    "\n",
    "# between 0 & 1\n",
    "x = np.random.random((3, 4))\n",
    "print(x)\n",
    "\n",
    "x = np.random.randint(0, 100, size=(3,4))\n",
    "print(x)\n",
    "\n"
   ],
   "outputs": [
    {
     "output_type": "stream",
     "name": "stdout",
     "text": [
      "[[0.50831545 0.16684751 0.77905102 0.8649333 ]\n",
      " [0.41139672 0.13997259 0.03322239 0.98257496]\n",
      " [0.37329075 0.42007537 0.05058812 0.36549611]]\n",
      "[[ 9 10 27 45]\n",
      " [71 39 61 85]\n",
      " [97 44 34 34]]\n"
     ]
    }
   ],
   "metadata": {}
  },
  {
   "cell_type": "code",
   "execution_count": 236,
   "source": [
    "# بدست آوردن کوچک ترین یا بزرگ ترین مقدار\r\n",
    "# find min or max value\r\n",
    "\r\n",
    "np.random.seed(0)\r\n",
    "\r\n",
    "x = np.random.randint(100 , size=(3, 4))\r\n",
    "print(x)\r\n",
    "\r\n",
    "# minimux in all of the array / کوچک ترین آیتم در کل آرایه\r\n",
    "print(x.min())\r\n",
    "\r\n",
    "# minimum in the each row  / کوچک ترین در هر سطر\r\n",
    "print(x.min(axis=1))     \r\n",
    "\r\n",
    "#minimum in the each column / کوچک ترین در هر ستون\r\n",
    "print(x.min(axis=0))\r\n",
    "\r\n",
    "\r\n",
    "\r\n",
    "# index of the minimum in all / ایندکس کوچک ترین در کل آرایه\r\n",
    "print(np.argmin(x))\r\n",
    "\r\n",
    "# index of the minimum in each row / ایندکس کوچک ترین در هر سطر\r\n",
    "print(np.argmin(x, axis=1))\r\n",
    "\r\n",
    "# index of the minimum in each column / ایندکس کوچک ترین در هر ستون\r\n",
    "print(np.argmin(x, axis=0))\r\n",
    "\r\n",
    "\r\n",
    "\r\n"
   ],
   "outputs": [
    {
     "output_type": "stream",
     "name": "stdout",
     "text": [
      "[[44 47 64 67]\n",
      " [67  9 83 21]\n",
      " [36 87 70 88]]\n",
      "9\n",
      "[44  9 36]\n",
      "[36  9 64 21]\n",
      "5\n",
      "[0 1 0]\n",
      "[2 1 0 1]\n"
     ]
    }
   ],
   "metadata": {}
  },
  {
   "cell_type": "code",
   "execution_count": 254,
   "source": [
    "# انواع ابعاد آرایه\n",
    "# Types of array dimensions\n",
    "\n",
    "a = np.array(123)\n",
    "b = np.array([1,2,3])  # ((1,2,3)) or ([1,2,3])\n",
    "c = np.array([[1, 2, 3], [4, 5, 6]])\n",
    "d = np.array([[[1, 2, 3], [4, 5, 6]], [[1, 2, 3], [4, 5, 6]]])\n",
    "e = np.array( [[[[1,2,3]]]])\n",
    "f = np.array([1,2,3], ndmin=10)  # [[[[[[[[[[1 2 3]]]]]]]]]]\n",
    "\n",
    "print(a.ndim)\n",
    "print(b.ndim)\n",
    "print(c.ndim)\n",
    "print(d.ndim)\n",
    "print(e.ndim)\n",
    "print(f.ndim)\n",
    "\n",
    "\n",
    "\n",
    "\n",
    "\n",
    "\n"
   ],
   "outputs": [
    {
     "output_type": "stream",
     "name": "stdout",
     "text": [
      "0\n",
      "1\n",
      "2\n",
      "3\n",
      "4\n",
      "10\n",
      "[[[[[[[[[[1 2 3]]]]]]]]]]\n"
     ]
    }
   ],
   "metadata": {}
  },
  {
   "cell_type": "code",
   "execution_count": 255,
   "source": [],
   "outputs": [
    {
     "output_type": "stream",
     "name": "stdout",
     "text": [
      "5th element on 2nd dim:  10\n"
     ]
    }
   ],
   "metadata": {}
  },
  {
   "cell_type": "code",
   "execution_count": null,
   "source": [],
   "outputs": [],
   "metadata": {}
  }
 ],
 "metadata": {
  "interpreter": {
   "hash": "770021e68aae5e5bc49f7a3b6edb919a4a251fef8e7696fd47196c25263b13c4"
  },
  "kernelspec": {
   "name": "python3",
   "display_name": "Python 3.8.5 64-bit ('base': conda)"
  },
  "language_info": {
   "codemirror_mode": {
    "name": "ipython",
    "version": 3
   },
   "file_extension": ".py",
   "mimetype": "text/x-python",
   "name": "python",
   "nbconvert_exporter": "python",
   "pygments_lexer": "ipython3",
   "version": "3.8.5"
  },
  "orig_nbformat": 4
 },
 "nbformat": 4,
 "nbformat_minor": 2
}